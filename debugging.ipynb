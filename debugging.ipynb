{
 "cells": [
  {
   "cell_type": "code",
   "execution_count": 1,
   "metadata": {},
   "outputs": [],
   "source": [
    "from scripts.data_generation.well import Well, sample_well\n",
    "from manywells.simulator import SSDFSimulator\n",
    "import SPSA"
   ]
  },
  {
   "cell_type": "code",
   "execution_count": 2,
   "metadata": {},
   "outputs": [
    {
     "name": "stdout",
     "output_type": "stream",
     "text": [
      "Well(wp=WellProperties(L=1985.7908818477706, D=0.1397, rho_l=911.3310087439986, R_s=485.8316790722516, cp_g=2225, cp_l=2339.216071112378, f_D=0.07960315849191575, h=17.37166268914084, slip=SlipModel(), inflow=Vogel(w_l_max=117.59955527024063, f_g=0.007565255315451339), choke=SimpsonChokeModel(K_c=0.0019504518382759829, cpr=0.544465891827854, chk_profile='concave', _chk_profiles=['linear', 'sigmoid', 'convex', 'concave'])), bc=BoundaryConditions(p_r=198.08617323097684, p_s=24.281341157950543, T_r=347.7237264554331, T_s=277.15, u=1.0, w_lg=0.0), gas=GasProperties(name='gas', R_s=485.8316790722516, cp=2225), oil=LiquidProperties(name='oil', rho=895.1921797390702, cp=2000), water=LiquidProperties(name='water', rho=999.1, cp=4184), fractions=(0.007565255315451339, 0.823445697503501, 0.16898904718104765), has_gas_lift=True)\n"
     ]
    }
   ],
   "source": [
    "# Check well conditions\n",
    "well = sample_well()\n",
    "sim = SSDFSimulator(well_properties=well.wp, boundary_conditions=well.bc)\n",
    "\n",
    "print(well)"
   ]
  },
  {
   "cell_type": "code",
   "execution_count": null,
   "metadata": {},
   "outputs": [
    {
     "name": "stdout",
     "output_type": "stream",
     "text": [
      "\n",
      "******************************************************************************\n",
      "This program contains Ipopt, a library for large-scale nonlinear optimization.\n",
      " Ipopt is released as open source code under the Eclipse Public License (EPL).\n",
      "         For more information visit https://github.com/coin-or/Ipopt\n",
      "******************************************************************************\n",
      "\n",
      "6.878065491210256\n"
     ]
    },
    {
     "name": "stderr",
     "output_type": "stream",
     "text": [
      "CasADi - 2025-04-09 10:16:52 WARNING(\"S:nlp_jac_g failed: NaN detected for output jac_g_x, at nonzero index 4092 (row 703, col 700).\") [.../casadi/core/oracle_function.cpp:377]\n"
     ]
    }
   ],
   "source": [
    "x = sim.simulate()\n",
    "x2_dp = SPSA.create_data_point(well=well, sim=sim, x=x, decision_type='Perturbation')\n",
    "print(x2_dp[\"WOIL\"].values[0])"
   ]
  },
  {
   "cell_type": "code",
   "execution_count": 4,
   "metadata": {},
   "outputs": [
    {
     "name": "stdout",
     "output_type": "stream",
     "text": [
      "6.878065491210256\n"
     ]
    },
    {
     "name": "stderr",
     "output_type": "stream",
     "text": [
      "CasADi - 2025-04-09 10:17:21 WARNING(\"S:nlp_jac_g failed: NaN detected for output jac_g_x, at nonzero index 4092 (row 703, col 700).\") [.../casadi/core/oracle_function.cpp:377]\n"
     ]
    }
   ],
   "source": [
    "x = sim.simulate()\n",
    "x2_dp = SPSA.create_data_point(well=well, sim=sim, x=x, decision_type='Perturbation')\n",
    "print(x2_dp[\"WOIL\"].values[0])"
   ]
  },
  {
   "cell_type": "code",
   "execution_count": 2,
   "metadata": {},
   "outputs": [],
   "source": [
    "import pandas as pd"
   ]
  },
  {
   "cell_type": "code",
   "execution_count": null,
   "metadata": {},
   "outputs": [
    {
     "ename": "NameError",
     "evalue": "name 'df' is not defined",
     "output_type": "error",
     "traceback": [
      "\u001b[0;31m---------------------------------------------------------------------------\u001b[0m",
      "\u001b[0;31mNameError\u001b[0m                                 Traceback (most recent call last)",
      "Cell \u001b[0;32mIn[9], line 5\u001b[0m\n\u001b[1;32m      3\u001b[0m p_counter \u001b[38;5;241m=\u001b[39m \u001b[38;5;241m0\u001b[39m\n\u001b[1;32m      4\u001b[0m start_drop \u001b[38;5;241m=\u001b[39m \u001b[38;5;241m0\u001b[39m\n\u001b[0;32m----> 5\u001b[0m \u001b[38;5;28;01mfor\u001b[39;00m i \u001b[38;5;129;01min\u001b[39;00m \u001b[38;5;28mrange\u001b[39m(\u001b[38;5;28mlen\u001b[39m(\u001b[43mdf\u001b[49m)):\n\u001b[1;32m      6\u001b[0m     \u001b[38;5;28;01mif\u001b[39;00m df[\u001b[38;5;124m\"\u001b[39m\u001b[38;5;124mDCNT\u001b[39m\u001b[38;5;124m\"\u001b[39m]\u001b[38;5;241m.\u001b[39miloc[i] \u001b[38;5;241m==\u001b[39m \u001b[38;5;124m\"\u001b[39m\u001b[38;5;124mPerturbation\u001b[39m\u001b[38;5;124m\"\u001b[39m:\n\u001b[1;32m      7\u001b[0m         p_counter \u001b[38;5;241m+\u001b[39m\u001b[38;5;241m=\u001b[39m \u001b[38;5;241m1\u001b[39m\n",
      "\u001b[0;31mNameError\u001b[0m: name 'df' is not defined"
     ]
    }
   ],
   "source": [
    "# Script to delete ghost rows in the data\n",
    "drops = []\n",
    "p_counter = 0\n",
    "start_drop = 0\n",
    "for i in range(len(df)):\n",
    "    if df[\"DCNT\"].iloc[i] == \"Perturbation\":\n",
    "        p_counter += 1\n",
    "    elif df[\"DCNT\"].iloc[i] == \"Optimizing\":\n",
    "        if p_counter > 3:\n",
    "            drops.append(list([start_drop, i]))\n",
    "        p_counter = 0\n",
    "    if p_counter == 3:\n",
    "        start_drop = i\n",
    "\n",
    "for tup in drops:\n",
    "    df = df.drop(index=range(tup[0], tup[1]))\n",
    "df = df.reset_index(update=True)"
   ]
  },
  {
   "cell_type": "code",
   "execution_count": 14,
   "metadata": {},
   "outputs": [],
   "source": [
    "import os\n",
    "import pickle\n",
    "from itertools import combinations\n",
    "\n",
    "def files_are_equivalent(f1, f2):\n",
    "    try:\n",
    "        with open(f1, 'rb') as a, open(f2, 'rb') as b:\n",
    "            return pickle.load(a) == pickle.load(b)\n",
    "    except Exception as e:\n",
    "        print(f\"Error comparing {f1} and {f2}: {e}\")\n",
    "        return False\n",
    "\n",
    "def remove_pickle_duplicates(directory):\n",
    "    files = [os.path.join(directory, f) for f in os.listdir(directory) if os.path.isfile(os.path.join(directory, f))]\n",
    "    keep = set()\n",
    "    deleted = set()\n",
    "\n",
    "    for i, f1 in enumerate(files):\n",
    "        if f1 in deleted:\n",
    "            continue\n",
    "        keep.add(f1)\n",
    "        for f2 in files[i+1:]:\n",
    "            if f2 in deleted or f2 in keep:\n",
    "                continue\n",
    "            if files_are_equivalent(f1, f2):\n",
    "                print(f\"Duplicate detected:\\n  KEEP: {f1}\\n  DELETE: {f2}\")\n",
    "                os.remove(f2)\n",
    "                deleted.add(f2)\n",
    "\n",
    "    print(f\"\\nDeleted {len(deleted)} duplicate files.\")\n",
    "    return deleted"
   ]
  },
  {
   "cell_type": "code",
   "execution_count": 16,
   "metadata": {},
   "outputs": [
    {
     "name": "stdout",
     "output_type": "stream",
     "text": [
      "Error comparing ../results/param_set_1/run9/iteration_100/dump/3dcd8e8b-d853-4cf9-8175-236a55881b52 and ../results/param_set_1/run9/iteration_100/dump/.DS_Store: invalid load key, '\\x00'.\n",
      "Error comparing ../results/param_set_1/run9/iteration_100/dump/3dcd8e8b-d853-4cf9-8175-236a55881b52 and ../results/param_set_1/run9/iteration_100/dump/704ac24a-bfa0-4499-bcc6-85f133b8f3e9: The truth value of a DataFrame is ambiguous. Use a.empty, a.bool(), a.item(), a.any() or a.all().\n",
      "Error comparing ../results/param_set_1/run9/iteration_100/dump/de947dad-c34e-4f83-86c6-1a7a0923f203 and ../results/param_set_1/run9/iteration_100/dump/.DS_Store: invalid load key, '\\x00'.\n",
      "Error comparing ../results/param_set_1/run9/iteration_100/dump/de947dad-c34e-4f83-86c6-1a7a0923f203 and ../results/param_set_1/run9/iteration_100/dump/a8eda29a-2bb6-41d8-9436-b1c8d372bea2: The truth value of a DataFrame is ambiguous. Use a.empty, a.bool(), a.item(), a.any() or a.all().\n",
      "Error comparing ../results/param_set_1/run9/iteration_100/dump/8b2f9470-e2ac-4725-a4a0-1f368a7d40b9 and ../results/param_set_1/run9/iteration_100/dump/.DS_Store: invalid load key, '\\x00'.\n",
      "Error comparing ../results/param_set_1/run9/iteration_100/dump/8b2f9470-e2ac-4725-a4a0-1f368a7d40b9 and ../results/param_set_1/run9/iteration_100/dump/03f33755-ed48-4b29-9392-6d0fbb2ad2dd: The truth value of a DataFrame is ambiguous. Use a.empty, a.bool(), a.item(), a.any() or a.all().\n",
      "Error comparing ../results/param_set_1/run9/iteration_100/dump/6a925709-5103-4ac3-98a7-ed583797de09 and ../results/param_set_1/run9/iteration_100/dump/.DS_Store: invalid load key, '\\x00'.\n",
      "Error comparing ../results/param_set_1/run9/iteration_100/dump/6a925709-5103-4ac3-98a7-ed583797de09 and ../results/param_set_1/run9/iteration_100/dump/37c7c982-a580-4d4d-bbc7-835409ed3425: The truth value of a DataFrame is ambiguous. Use a.empty, a.bool(), a.item(), a.any() or a.all().\n",
      "Error comparing ../results/param_set_1/run9/iteration_100/dump/7c7c9983-874e-47ac-b123-87ba9d701ad8 and ../results/param_set_1/run9/iteration_100/dump/.DS_Store: invalid load key, '\\x00'.\n",
      "Error comparing ../results/param_set_1/run9/iteration_100/dump/7c7c9983-874e-47ac-b123-87ba9d701ad8 and ../results/param_set_1/run9/iteration_100/dump/4a5e4518-f0b3-4b77-aa1a-08904764d41e: The truth value of a DataFrame is ambiguous. Use a.empty, a.bool(), a.item(), a.any() or a.all().\n",
      "Error comparing ../results/param_set_1/run9/iteration_100/dump/.DS_Store and ../results/param_set_1/run9/iteration_100/dump/37c7c982-a580-4d4d-bbc7-835409ed3425: invalid load key, '\\x00'.\n",
      "Error comparing ../results/param_set_1/run9/iteration_100/dump/.DS_Store and ../results/param_set_1/run9/iteration_100/dump/65290e21-f985-4902-acac-793e5241457c: invalid load key, '\\x00'.\n",
      "Error comparing ../results/param_set_1/run9/iteration_100/dump/.DS_Store and ../results/param_set_1/run9/iteration_100/dump/03f33755-ed48-4b29-9392-6d0fbb2ad2dd: invalid load key, '\\x00'.\n",
      "Error comparing ../results/param_set_1/run9/iteration_100/dump/.DS_Store and ../results/param_set_1/run9/iteration_100/dump/ee898ba1-1403-4eb5-a56b-a380a79dbda4: invalid load key, '\\x00'.\n",
      "Error comparing ../results/param_set_1/run9/iteration_100/dump/.DS_Store and ../results/param_set_1/run9/iteration_100/dump/db96a9c2-a207-44b5-b5c5-c463c469a353: invalid load key, '\\x00'.\n",
      "Error comparing ../results/param_set_1/run9/iteration_100/dump/.DS_Store and ../results/param_set_1/run9/iteration_100/dump/2ca412d5-7b4c-4fc3-8e2b-16c8b4762c6b: invalid load key, '\\x00'.\n",
      "Error comparing ../results/param_set_1/run9/iteration_100/dump/.DS_Store and ../results/param_set_1/run9/iteration_100/dump/a8eda29a-2bb6-41d8-9436-b1c8d372bea2: invalid load key, '\\x00'.\n",
      "Error comparing ../results/param_set_1/run9/iteration_100/dump/.DS_Store and ../results/param_set_1/run9/iteration_100/dump/bf13d81a-c104-4b5e-bcf4-9e00d9ef1498: invalid load key, '\\x00'.\n",
      "Error comparing ../results/param_set_1/run9/iteration_100/dump/.DS_Store and ../results/param_set_1/run9/iteration_100/dump/ab5d6d22-1223-4c52-8357-f76648ea4948: invalid load key, '\\x00'.\n",
      "Error comparing ../results/param_set_1/run9/iteration_100/dump/.DS_Store and ../results/param_set_1/run9/iteration_100/dump/c1e331ef-1da4-439e-8323-248890c8981f: invalid load key, '\\x00'.\n",
      "Error comparing ../results/param_set_1/run9/iteration_100/dump/.DS_Store and ../results/param_set_1/run9/iteration_100/dump/74385cc5-6e95-4bdd-9f24-5c207373e69b: invalid load key, '\\x00'.\n",
      "Error comparing ../results/param_set_1/run9/iteration_100/dump/.DS_Store and ../results/param_set_1/run9/iteration_100/dump/4a5e4518-f0b3-4b77-aa1a-08904764d41e: invalid load key, '\\x00'.\n",
      "Error comparing ../results/param_set_1/run9/iteration_100/dump/.DS_Store and ../results/param_set_1/run9/iteration_100/dump/65b3cc64-444e-45b0-8ac4-bd1574cbbb17: invalid load key, '\\x00'.\n",
      "Error comparing ../results/param_set_1/run9/iteration_100/dump/.DS_Store and ../results/param_set_1/run9/iteration_100/dump/704ac24a-bfa0-4499-bcc6-85f133b8f3e9: invalid load key, '\\x00'.\n",
      "Error comparing ../results/param_set_1/run9/iteration_100/dump/.DS_Store and ../results/param_set_1/run9/iteration_100/dump/cb9fba23-a4fb-4446-9c7e-0d16040c113e: invalid load key, '\\x00'.\n",
      "Error comparing ../results/param_set_1/run9/iteration_100/dump/65290e21-f985-4902-acac-793e5241457c and ../results/param_set_1/run9/iteration_100/dump/db96a9c2-a207-44b5-b5c5-c463c469a353: The truth value of a DataFrame is ambiguous. Use a.empty, a.bool(), a.item(), a.any() or a.all().\n",
      "Error comparing ../results/param_set_1/run9/iteration_100/dump/ee898ba1-1403-4eb5-a56b-a380a79dbda4 and ../results/param_set_1/run9/iteration_100/dump/cb9fba23-a4fb-4446-9c7e-0d16040c113e: The truth value of a DataFrame is ambiguous. Use a.empty, a.bool(), a.item(), a.any() or a.all().\n",
      "Error comparing ../results/param_set_1/run9/iteration_100/dump/2ca412d5-7b4c-4fc3-8e2b-16c8b4762c6b and ../results/param_set_1/run9/iteration_100/dump/74385cc5-6e95-4bdd-9f24-5c207373e69b: The truth value of a DataFrame is ambiguous. Use a.empty, a.bool(), a.item(), a.any() or a.all().\n",
      "Error comparing ../results/param_set_1/run9/iteration_100/dump/bf13d81a-c104-4b5e-bcf4-9e00d9ef1498 and ../results/param_set_1/run9/iteration_100/dump/65b3cc64-444e-45b0-8ac4-bd1574cbbb17: The truth value of a DataFrame is ambiguous. Use a.empty, a.bool(), a.item(), a.any() or a.all().\n",
      "Error comparing ../results/param_set_1/run9/iteration_100/dump/ab5d6d22-1223-4c52-8357-f76648ea4948 and ../results/param_set_1/run9/iteration_100/dump/c1e331ef-1da4-439e-8323-248890c8981f: The truth value of a DataFrame is ambiguous. Use a.empty, a.bool(), a.item(), a.any() or a.all().\n",
      "\n",
      "Deleted 0 duplicate files.\n"
     ]
    },
    {
     "data": {
      "text/plain": [
       "set()"
      ]
     },
     "execution_count": 16,
     "metadata": {},
     "output_type": "execute_result"
    }
   ],
   "source": [
    "remove_pickle_duplicates(\"../results/param_set_1/run9/iteration_100/dump\")"
   ]
  },
  {
   "cell_type": "markdown",
   "metadata": {},
   "source": [
    "### Scripts to find datasets"
   ]
  },
  {
   "cell_type": "code",
   "execution_count": 3,
   "metadata": {},
   "outputs": [],
   "source": [
    "from SPSA import configure_wells, create_data_point, SPSAOptimization\n",
    "from manywells.simulator import SSDFSimulator, SimError\n",
    "import pandas as pd"
   ]
  },
  {
   "cell_type": "code",
   "execution_count": 21,
   "metadata": {},
   "outputs": [
    {
     "name": "stderr",
     "output_type": "stream",
     "text": [
      "/var/folders/ng/6xlm381s2n9g1yzbrt_z2__00000gn/T/ipykernel_78586/2475522981.py:26: FutureWarning: The frame.append method is deprecated and will be removed from pandas in a future version. Use pandas.concat instead.\n",
      "  differences = differences.append({\n",
      "/var/folders/ng/6xlm381s2n9g1yzbrt_z2__00000gn/T/ipykernel_78586/2475522981.py:26: FutureWarning: The frame.append method is deprecated and will be removed from pandas in a future version. Use pandas.concat instead.\n",
      "  differences = differences.append({\n",
      "/var/folders/ng/6xlm381s2n9g1yzbrt_z2__00000gn/T/ipykernel_78586/2475522981.py:26: FutureWarning: The frame.append method is deprecated and will be removed from pandas in a future version. Use pandas.concat instead.\n",
      "  differences = differences.append({\n",
      "/var/folders/ng/6xlm381s2n9g1yzbrt_z2__00000gn/T/ipykernel_78586/2475522981.py:26: FutureWarning: The frame.append method is deprecated and will be removed from pandas in a future version. Use pandas.concat instead.\n",
      "  differences = differences.append({\n",
      "/var/folders/ng/6xlm381s2n9g1yzbrt_z2__00000gn/T/ipykernel_78586/2475522981.py:26: FutureWarning: The frame.append method is deprecated and will be removed from pandas in a future version. Use pandas.concat instead.\n",
      "  differences = differences.append({\n",
      "/var/folders/ng/6xlm381s2n9g1yzbrt_z2__00000gn/T/ipykernel_78586/2475522981.py:26: FutureWarning: The frame.append method is deprecated and will be removed from pandas in a future version. Use pandas.concat instead.\n",
      "  differences = differences.append({\n",
      "/var/folders/ng/6xlm381s2n9g1yzbrt_z2__00000gn/T/ipykernel_78586/2475522981.py:26: FutureWarning: The frame.append method is deprecated and will be removed from pandas in a future version. Use pandas.concat instead.\n",
      "  differences = differences.append({\n",
      "/var/folders/ng/6xlm381s2n9g1yzbrt_z2__00000gn/T/ipykernel_78586/2475522981.py:26: FutureWarning: The frame.append method is deprecated and will be removed from pandas in a future version. Use pandas.concat instead.\n",
      "  differences = differences.append({\n",
      "/var/folders/ng/6xlm381s2n9g1yzbrt_z2__00000gn/T/ipykernel_78586/2475522981.py:26: FutureWarning: The frame.append method is deprecated and will be removed from pandas in a future version. Use pandas.concat instead.\n",
      "  differences = differences.append({\n",
      "/var/folders/ng/6xlm381s2n9g1yzbrt_z2__00000gn/T/ipykernel_78586/2475522981.py:26: FutureWarning: The frame.append method is deprecated and will be removed from pandas in a future version. Use pandas.concat instead.\n",
      "  differences = differences.append({\n",
      "/var/folders/ng/6xlm381s2n9g1yzbrt_z2__00000gn/T/ipykernel_78586/2475522981.py:26: FutureWarning: The frame.append method is deprecated and will be removed from pandas in a future version. Use pandas.concat instead.\n",
      "  differences = differences.append({\n",
      "/var/folders/ng/6xlm381s2n9g1yzbrt_z2__00000gn/T/ipykernel_78586/2475522981.py:26: FutureWarning: The frame.append method is deprecated and will be removed from pandas in a future version. Use pandas.concat instead.\n",
      "  differences = differences.append({\n",
      "/var/folders/ng/6xlm381s2n9g1yzbrt_z2__00000gn/T/ipykernel_78586/2475522981.py:26: FutureWarning: The frame.append method is deprecated and will be removed from pandas in a future version. Use pandas.concat instead.\n",
      "  differences = differences.append({\n",
      "/var/folders/ng/6xlm381s2n9g1yzbrt_z2__00000gn/T/ipykernel_78586/2475522981.py:26: FutureWarning: The frame.append method is deprecated and will be removed from pandas in a future version. Use pandas.concat instead.\n",
      "  differences = differences.append({\n",
      "/var/folders/ng/6xlm381s2n9g1yzbrt_z2__00000gn/T/ipykernel_78586/2475522981.py:26: FutureWarning: The frame.append method is deprecated and will be removed from pandas in a future version. Use pandas.concat instead.\n",
      "  differences = differences.append({\n",
      "/var/folders/ng/6xlm381s2n9g1yzbrt_z2__00000gn/T/ipykernel_78586/2475522981.py:26: FutureWarning: The frame.append method is deprecated and will be removed from pandas in a future version. Use pandas.concat instead.\n",
      "  differences = differences.append({\n",
      "/var/folders/ng/6xlm381s2n9g1yzbrt_z2__00000gn/T/ipykernel_78586/2475522981.py:26: FutureWarning: The frame.append method is deprecated and will be removed from pandas in a future version. Use pandas.concat instead.\n",
      "  differences = differences.append({\n",
      "/var/folders/ng/6xlm381s2n9g1yzbrt_z2__00000gn/T/ipykernel_78586/2475522981.py:26: FutureWarning: The frame.append method is deprecated and will be removed from pandas in a future version. Use pandas.concat instead.\n",
      "  differences = differences.append({\n",
      "/var/folders/ng/6xlm381s2n9g1yzbrt_z2__00000gn/T/ipykernel_78586/2475522981.py:26: FutureWarning: The frame.append method is deprecated and will be removed from pandas in a future version. Use pandas.concat instead.\n",
      "  differences = differences.append({\n",
      "/var/folders/ng/6xlm381s2n9g1yzbrt_z2__00000gn/T/ipykernel_78586/2475522981.py:26: FutureWarning: The frame.append method is deprecated and will be removed from pandas in a future version. Use pandas.concat instead.\n",
      "  differences = differences.append({\n",
      "/var/folders/ng/6xlm381s2n9g1yzbrt_z2__00000gn/T/ipykernel_78586/2475522981.py:26: FutureWarning: The frame.append method is deprecated and will be removed from pandas in a future version. Use pandas.concat instead.\n",
      "  differences = differences.append({\n",
      "/var/folders/ng/6xlm381s2n9g1yzbrt_z2__00000gn/T/ipykernel_78586/2475522981.py:26: FutureWarning: The frame.append method is deprecated and will be removed from pandas in a future version. Use pandas.concat instead.\n",
      "  differences = differences.append({\n",
      "/var/folders/ng/6xlm381s2n9g1yzbrt_z2__00000gn/T/ipykernel_78586/2475522981.py:26: FutureWarning: The frame.append method is deprecated and will be removed from pandas in a future version. Use pandas.concat instead.\n",
      "  differences = differences.append({\n",
      "/var/folders/ng/6xlm381s2n9g1yzbrt_z2__00000gn/T/ipykernel_78586/2475522981.py:26: FutureWarning: The frame.append method is deprecated and will be removed from pandas in a future version. Use pandas.concat instead.\n",
      "  differences = differences.append({\n",
      "/var/folders/ng/6xlm381s2n9g1yzbrt_z2__00000gn/T/ipykernel_78586/2475522981.py:26: FutureWarning: The frame.append method is deprecated and will be removed from pandas in a future version. Use pandas.concat instead.\n",
      "  differences = differences.append({\n",
      "/var/folders/ng/6xlm381s2n9g1yzbrt_z2__00000gn/T/ipykernel_78586/2475522981.py:26: FutureWarning: The frame.append method is deprecated and will be removed from pandas in a future version. Use pandas.concat instead.\n",
      "  differences = differences.append({\n",
      "/var/folders/ng/6xlm381s2n9g1yzbrt_z2__00000gn/T/ipykernel_78586/2475522981.py:26: FutureWarning: The frame.append method is deprecated and will be removed from pandas in a future version. Use pandas.concat instead.\n",
      "  differences = differences.append({\n",
      "/var/folders/ng/6xlm381s2n9g1yzbrt_z2__00000gn/T/ipykernel_78586/2475522981.py:26: FutureWarning: The frame.append method is deprecated and will be removed from pandas in a future version. Use pandas.concat instead.\n",
      "  differences = differences.append({\n",
      "/var/folders/ng/6xlm381s2n9g1yzbrt_z2__00000gn/T/ipykernel_78586/2475522981.py:26: FutureWarning: The frame.append method is deprecated and will be removed from pandas in a future version. Use pandas.concat instead.\n",
      "  differences = differences.append({\n",
      "/var/folders/ng/6xlm381s2n9g1yzbrt_z2__00000gn/T/ipykernel_78586/2475522981.py:26: FutureWarning: The frame.append method is deprecated and will be removed from pandas in a future version. Use pandas.concat instead.\n",
      "  differences = differences.append({\n",
      "/var/folders/ng/6xlm381s2n9g1yzbrt_z2__00000gn/T/ipykernel_78586/2475522981.py:26: FutureWarning: The frame.append method is deprecated and will be removed from pandas in a future version. Use pandas.concat instead.\n",
      "  differences = differences.append({\n",
      "/var/folders/ng/6xlm381s2n9g1yzbrt_z2__00000gn/T/ipykernel_78586/2475522981.py:26: FutureWarning: The frame.append method is deprecated and will be removed from pandas in a future version. Use pandas.concat instead.\n",
      "  differences = differences.append({\n",
      "/var/folders/ng/6xlm381s2n9g1yzbrt_z2__00000gn/T/ipykernel_78586/2475522981.py:26: FutureWarning: The frame.append method is deprecated and will be removed from pandas in a future version. Use pandas.concat instead.\n",
      "  differences = differences.append({\n",
      "/var/folders/ng/6xlm381s2n9g1yzbrt_z2__00000gn/T/ipykernel_78586/2475522981.py:26: FutureWarning: The frame.append method is deprecated and will be removed from pandas in a future version. Use pandas.concat instead.\n",
      "  differences = differences.append({\n",
      "/var/folders/ng/6xlm381s2n9g1yzbrt_z2__00000gn/T/ipykernel_78586/2475522981.py:26: FutureWarning: The frame.append method is deprecated and will be removed from pandas in a future version. Use pandas.concat instead.\n",
      "  differences = differences.append({\n",
      "/var/folders/ng/6xlm381s2n9g1yzbrt_z2__00000gn/T/ipykernel_78586/2475522981.py:26: FutureWarning: The frame.append method is deprecated and will be removed from pandas in a future version. Use pandas.concat instead.\n",
      "  differences = differences.append({\n",
      "/var/folders/ng/6xlm381s2n9g1yzbrt_z2__00000gn/T/ipykernel_78586/2475522981.py:26: FutureWarning: The frame.append method is deprecated and will be removed from pandas in a future version. Use pandas.concat instead.\n",
      "  differences = differences.append({\n",
      "/var/folders/ng/6xlm381s2n9g1yzbrt_z2__00000gn/T/ipykernel_78586/2475522981.py:26: FutureWarning: The frame.append method is deprecated and will be removed from pandas in a future version. Use pandas.concat instead.\n",
      "  differences = differences.append({\n",
      "/var/folders/ng/6xlm381s2n9g1yzbrt_z2__00000gn/T/ipykernel_78586/2475522981.py:26: FutureWarning: The frame.append method is deprecated and will be removed from pandas in a future version. Use pandas.concat instead.\n",
      "  differences = differences.append({\n",
      "/var/folders/ng/6xlm381s2n9g1yzbrt_z2__00000gn/T/ipykernel_78586/2475522981.py:26: FutureWarning: The frame.append method is deprecated and will be removed from pandas in a future version. Use pandas.concat instead.\n",
      "  differences = differences.append({\n"
     ]
    }
   ],
   "source": [
    "dataset_filename = 'data/testing/SPSA-sol_configs/full.csv'\n",
    "df = pd.read_csv(dataset_filename)\n",
    "\n",
    "num = 40\n",
    "df = df[(df['wp.inflow.w_l_max'] < 60) & (df['has_gas_lift'] == True)].sample(n=num)\n",
    "wells = configure_wells(df)\n",
    "\n",
    "differences = pd.DataFrame(columns=['well_id', 'oil_before', 'oil_after', 'difference'])\n",
    "\n",
    "for i, well in wells.items():\n",
    "    try:\n",
    "        sim = SSDFSimulator(well_properties=well.wp, boundary_conditions=well.bc)\n",
    "        x = sim.simulate()\n",
    "        dp = create_data_point(well=well, sim=sim, x=x, decision_type='Perturbation')\n",
    "        oil_before = dp[\"WOIL\"].values[0]\n",
    "\n",
    "        well.bc.w_lg = 1.5\n",
    "\n",
    "        sim = SSDFSimulator(well_properties=well.wp, boundary_conditions=well.bc)\n",
    "        x = sim.simulate()\n",
    "        dp = create_data_point(well=well, sim=sim, x=x, decision_type='Perturbation')\n",
    "        oil_after = dp[\"WOIL\"].values[0]\n",
    "\n",
    "        difference = oil_after - oil_before\n",
    "\n",
    "        differences = differences.append({\n",
    "            'well_id': i,\n",
    "            'oil_before': oil_before,\n",
    "            'oil_after': oil_after,\n",
    "            'difference': difference\n",
    "        }, ignore_index=True)\n",
    "\n",
    "    except SimError as e:\n",
    "        continue"
   ]
  },
  {
   "cell_type": "code",
   "execution_count": 22,
   "metadata": {},
   "outputs": [
    {
     "data": {
      "application/vnd.microsoft.datawrangler.viewer.v0+json": {
       "columns": [
        {
         "name": "index",
         "rawType": "int64",
         "type": "integer"
        },
        {
         "name": "well_id",
         "rawType": "float64",
         "type": "float"
        },
        {
         "name": "oil_before",
         "rawType": "float64",
         "type": "float"
        },
        {
         "name": "oil_after",
         "rawType": "float64",
         "type": "float"
        },
        {
         "name": "difference",
         "rawType": "float64",
         "type": "float"
        }
       ],
       "ref": "0884041e-35b6-4aa3-85dc-f1d66bea2150",
       "rows": [
        [
         "0",
         "100.0",
         "17.106061103444688",
         "17.408870092710483",
         "0.30280898926579525"
        ],
        [
         "1",
         "1913.0",
         "7.863073287443291",
         "8.807108827402688",
         "0.9440355399593967"
        ],
        [
         "2",
         "1894.0",
         "4.60027082508859",
         "7.304582031004043",
         "2.7043112059154524"
        ],
        [
         "3",
         "1053.0",
         "12.732348742873281",
         "14.965938874790341",
         "2.23359013191706"
        ],
        [
         "4",
         "1723.0",
         "15.528861903113729",
         "15.989991333885246",
         "0.4611294307715177"
        ],
        [
         "5",
         "382.0",
         "11.350031169502985",
         "13.016748947198616",
         "1.6667177776956308"
        ],
        [
         "6",
         "1466.0",
         "7.875624538818152",
         "7.710757461140261",
         "-0.16486707767789088"
        ],
        [
         "7",
         "988.0",
         "12.092859013480835",
         "15.550712964370195",
         "3.45785395088936"
        ],
        [
         "8",
         "234.0",
         "6.642826670580351",
         "10.03899148755645",
         "3.396164816976099"
        ],
        [
         "9",
         "1409.0",
         "4.149495576033117",
         "8.266248681975197",
         "4.11675310594208"
        ],
        [
         "10",
         "656.0",
         "12.857625362157286",
         "13.730048211626881",
         "0.8724228494695954"
        ],
        [
         "11",
         "658.0",
         "11.402755214146072",
         "15.257387199651173",
         "3.854631985505101"
        ],
        [
         "12",
         "253.0",
         "6.3255920314248835",
         "6.096441127079171",
         "-0.22915090434571272"
        ],
        [
         "13",
         "798.0",
         "7.659511523168889",
         "7.017893307235231",
         "-0.6416182159336579"
        ],
        [
         "14",
         "212.0",
         "5.851021126177664",
         "5.897877714419811",
         "0.04685658824214656"
        ],
        [
         "15",
         "1702.0",
         "3.5646094241836885",
         "3.7133209751053817",
         "0.1487115509216932"
        ],
        [
         "16",
         "1158.0",
         "3.1516594922249235",
         "3.2458575042660405",
         "0.094198012041117"
        ],
        [
         "17",
         "786.0",
         "5.28304779609755",
         "5.617130354855564",
         "0.3340825587580136"
        ],
        [
         "18",
         "108.0",
         "3.137552059993817",
         "6.183113614841635",
         "3.045561554847818"
        ],
        [
         "19",
         "1345.0",
         "5.15290800626339",
         "9.078172458397155",
         "3.9252644521337654"
        ],
        [
         "20",
         "973.0",
         "6.686615060666591",
         "5.974393680933938",
         "-0.7122213797326529"
        ],
        [
         "21",
         "830.0",
         "12.157392043456115",
         "12.842802476665765",
         "0.6854104332096504"
        ],
        [
         "22",
         "1858.0",
         "10.49730900025154",
         "10.608916878155584",
         "0.11160787790404392"
        ],
        [
         "23",
         "257.0",
         "4.218869755141934",
         "4.958570886574595",
         "0.7397011314326614"
        ],
        [
         "24",
         "621.0",
         "3.368650850745621",
         "3.252487005752104",
         "-0.11616384499351717"
        ],
        [
         "25",
         "1082.0",
         "20.02493382463267",
         "19.498451761238638",
         "-0.526482063394031"
        ],
        [
         "26",
         "1292.0",
         "6.068141323588838",
         "4.929446564921517",
         "-1.138694758667321"
        ],
        [
         "27",
         "951.0",
         "14.764633786153055",
         "15.157203835982523",
         "0.39257004982946775"
        ],
        [
         "28",
         "746.0",
         "18.084121596437573",
         "19.2670510208443",
         "1.1829294244067263"
        ],
        [
         "29",
         "1615.0",
         "3.7664403988375588",
         "3.8524325738567726",
         "0.08599217501921386"
        ],
        [
         "30",
         "819.0",
         "7.963292263585797",
         "20.546638524896196",
         "12.5833462613104"
        ],
        [
         "31",
         "906.0",
         "7.6409150546082",
         "6.855273501462059",
         "-0.7856415531461414"
        ],
        [
         "32",
         "166.0",
         "16.635741198436033",
         "15.832584628059085",
         "-0.8031565703769488"
        ],
        [
         "33",
         "214.0",
         "7.053273311071388",
         "8.329788627690311",
         "1.276515316618923"
        ],
        [
         "34",
         "1134.0",
         "9.780628147271882",
         "11.75981279821239",
         "1.9791846509405087"
        ],
        [
         "35",
         "492.0",
         "2.9164760988523897",
         "2.8300005133228154",
         "-0.08647558552957424"
        ],
        [
         "36",
         "635.0",
         "8.042915241357669",
         "7.523521984141342",
         "-0.5193932572163265"
        ],
        [
         "37",
         "1903.0",
         "12.24099348362094",
         "12.589282218281875",
         "0.3482887346609349"
        ],
        [
         "38",
         "68.0",
         "10.379902489540616",
         "11.220030106444815",
         "0.8401276169041996"
        ],
        [
         "39",
         "1176.0",
         "5.886279739924279",
         "5.072030616174872",
         "-0.8142491237494074"
        ]
       ],
       "shape": {
        "columns": 4,
        "rows": 40
       }
      },
      "text/html": [
       "<div>\n",
       "<style scoped>\n",
       "    .dataframe tbody tr th:only-of-type {\n",
       "        vertical-align: middle;\n",
       "    }\n",
       "\n",
       "    .dataframe tbody tr th {\n",
       "        vertical-align: top;\n",
       "    }\n",
       "\n",
       "    .dataframe thead th {\n",
       "        text-align: right;\n",
       "    }\n",
       "</style>\n",
       "<table border=\"1\" class=\"dataframe\">\n",
       "  <thead>\n",
       "    <tr style=\"text-align: right;\">\n",
       "      <th></th>\n",
       "      <th>well_id</th>\n",
       "      <th>oil_before</th>\n",
       "      <th>oil_after</th>\n",
       "      <th>difference</th>\n",
       "    </tr>\n",
       "  </thead>\n",
       "  <tbody>\n",
       "    <tr>\n",
       "      <th>0</th>\n",
       "      <td>100.0</td>\n",
       "      <td>17.106061</td>\n",
       "      <td>17.408870</td>\n",
       "      <td>0.302809</td>\n",
       "    </tr>\n",
       "    <tr>\n",
       "      <th>1</th>\n",
       "      <td>1913.0</td>\n",
       "      <td>7.863073</td>\n",
       "      <td>8.807109</td>\n",
       "      <td>0.944036</td>\n",
       "    </tr>\n",
       "    <tr>\n",
       "      <th>2</th>\n",
       "      <td>1894.0</td>\n",
       "      <td>4.600271</td>\n",
       "      <td>7.304582</td>\n",
       "      <td>2.704311</td>\n",
       "    </tr>\n",
       "    <tr>\n",
       "      <th>3</th>\n",
       "      <td>1053.0</td>\n",
       "      <td>12.732349</td>\n",
       "      <td>14.965939</td>\n",
       "      <td>2.233590</td>\n",
       "    </tr>\n",
       "    <tr>\n",
       "      <th>4</th>\n",
       "      <td>1723.0</td>\n",
       "      <td>15.528862</td>\n",
       "      <td>15.989991</td>\n",
       "      <td>0.461129</td>\n",
       "    </tr>\n",
       "    <tr>\n",
       "      <th>5</th>\n",
       "      <td>382.0</td>\n",
       "      <td>11.350031</td>\n",
       "      <td>13.016749</td>\n",
       "      <td>1.666718</td>\n",
       "    </tr>\n",
       "    <tr>\n",
       "      <th>6</th>\n",
       "      <td>1466.0</td>\n",
       "      <td>7.875625</td>\n",
       "      <td>7.710757</td>\n",
       "      <td>-0.164867</td>\n",
       "    </tr>\n",
       "    <tr>\n",
       "      <th>7</th>\n",
       "      <td>988.0</td>\n",
       "      <td>12.092859</td>\n",
       "      <td>15.550713</td>\n",
       "      <td>3.457854</td>\n",
       "    </tr>\n",
       "    <tr>\n",
       "      <th>8</th>\n",
       "      <td>234.0</td>\n",
       "      <td>6.642827</td>\n",
       "      <td>10.038991</td>\n",
       "      <td>3.396165</td>\n",
       "    </tr>\n",
       "    <tr>\n",
       "      <th>9</th>\n",
       "      <td>1409.0</td>\n",
       "      <td>4.149496</td>\n",
       "      <td>8.266249</td>\n",
       "      <td>4.116753</td>\n",
       "    </tr>\n",
       "    <tr>\n",
       "      <th>10</th>\n",
       "      <td>656.0</td>\n",
       "      <td>12.857625</td>\n",
       "      <td>13.730048</td>\n",
       "      <td>0.872423</td>\n",
       "    </tr>\n",
       "    <tr>\n",
       "      <th>11</th>\n",
       "      <td>658.0</td>\n",
       "      <td>11.402755</td>\n",
       "      <td>15.257387</td>\n",
       "      <td>3.854632</td>\n",
       "    </tr>\n",
       "    <tr>\n",
       "      <th>12</th>\n",
       "      <td>253.0</td>\n",
       "      <td>6.325592</td>\n",
       "      <td>6.096441</td>\n",
       "      <td>-0.229151</td>\n",
       "    </tr>\n",
       "    <tr>\n",
       "      <th>13</th>\n",
       "      <td>798.0</td>\n",
       "      <td>7.659512</td>\n",
       "      <td>7.017893</td>\n",
       "      <td>-0.641618</td>\n",
       "    </tr>\n",
       "    <tr>\n",
       "      <th>14</th>\n",
       "      <td>212.0</td>\n",
       "      <td>5.851021</td>\n",
       "      <td>5.897878</td>\n",
       "      <td>0.046857</td>\n",
       "    </tr>\n",
       "    <tr>\n",
       "      <th>15</th>\n",
       "      <td>1702.0</td>\n",
       "      <td>3.564609</td>\n",
       "      <td>3.713321</td>\n",
       "      <td>0.148712</td>\n",
       "    </tr>\n",
       "    <tr>\n",
       "      <th>16</th>\n",
       "      <td>1158.0</td>\n",
       "      <td>3.151659</td>\n",
       "      <td>3.245858</td>\n",
       "      <td>0.094198</td>\n",
       "    </tr>\n",
       "    <tr>\n",
       "      <th>17</th>\n",
       "      <td>786.0</td>\n",
       "      <td>5.283048</td>\n",
       "      <td>5.617130</td>\n",
       "      <td>0.334083</td>\n",
       "    </tr>\n",
       "    <tr>\n",
       "      <th>18</th>\n",
       "      <td>108.0</td>\n",
       "      <td>3.137552</td>\n",
       "      <td>6.183114</td>\n",
       "      <td>3.045562</td>\n",
       "    </tr>\n",
       "    <tr>\n",
       "      <th>19</th>\n",
       "      <td>1345.0</td>\n",
       "      <td>5.152908</td>\n",
       "      <td>9.078172</td>\n",
       "      <td>3.925264</td>\n",
       "    </tr>\n",
       "    <tr>\n",
       "      <th>20</th>\n",
       "      <td>973.0</td>\n",
       "      <td>6.686615</td>\n",
       "      <td>5.974394</td>\n",
       "      <td>-0.712221</td>\n",
       "    </tr>\n",
       "    <tr>\n",
       "      <th>21</th>\n",
       "      <td>830.0</td>\n",
       "      <td>12.157392</td>\n",
       "      <td>12.842802</td>\n",
       "      <td>0.685410</td>\n",
       "    </tr>\n",
       "    <tr>\n",
       "      <th>22</th>\n",
       "      <td>1858.0</td>\n",
       "      <td>10.497309</td>\n",
       "      <td>10.608917</td>\n",
       "      <td>0.111608</td>\n",
       "    </tr>\n",
       "    <tr>\n",
       "      <th>23</th>\n",
       "      <td>257.0</td>\n",
       "      <td>4.218870</td>\n",
       "      <td>4.958571</td>\n",
       "      <td>0.739701</td>\n",
       "    </tr>\n",
       "    <tr>\n",
       "      <th>24</th>\n",
       "      <td>621.0</td>\n",
       "      <td>3.368651</td>\n",
       "      <td>3.252487</td>\n",
       "      <td>-0.116164</td>\n",
       "    </tr>\n",
       "    <tr>\n",
       "      <th>25</th>\n",
       "      <td>1082.0</td>\n",
       "      <td>20.024934</td>\n",
       "      <td>19.498452</td>\n",
       "      <td>-0.526482</td>\n",
       "    </tr>\n",
       "    <tr>\n",
       "      <th>26</th>\n",
       "      <td>1292.0</td>\n",
       "      <td>6.068141</td>\n",
       "      <td>4.929447</td>\n",
       "      <td>-1.138695</td>\n",
       "    </tr>\n",
       "    <tr>\n",
       "      <th>27</th>\n",
       "      <td>951.0</td>\n",
       "      <td>14.764634</td>\n",
       "      <td>15.157204</td>\n",
       "      <td>0.392570</td>\n",
       "    </tr>\n",
       "    <tr>\n",
       "      <th>28</th>\n",
       "      <td>746.0</td>\n",
       "      <td>18.084122</td>\n",
       "      <td>19.267051</td>\n",
       "      <td>1.182929</td>\n",
       "    </tr>\n",
       "    <tr>\n",
       "      <th>29</th>\n",
       "      <td>1615.0</td>\n",
       "      <td>3.766440</td>\n",
       "      <td>3.852433</td>\n",
       "      <td>0.085992</td>\n",
       "    </tr>\n",
       "    <tr>\n",
       "      <th>30</th>\n",
       "      <td>819.0</td>\n",
       "      <td>7.963292</td>\n",
       "      <td>20.546639</td>\n",
       "      <td>12.583346</td>\n",
       "    </tr>\n",
       "    <tr>\n",
       "      <th>31</th>\n",
       "      <td>906.0</td>\n",
       "      <td>7.640915</td>\n",
       "      <td>6.855274</td>\n",
       "      <td>-0.785642</td>\n",
       "    </tr>\n",
       "    <tr>\n",
       "      <th>32</th>\n",
       "      <td>166.0</td>\n",
       "      <td>16.635741</td>\n",
       "      <td>15.832585</td>\n",
       "      <td>-0.803157</td>\n",
       "    </tr>\n",
       "    <tr>\n",
       "      <th>33</th>\n",
       "      <td>214.0</td>\n",
       "      <td>7.053273</td>\n",
       "      <td>8.329789</td>\n",
       "      <td>1.276515</td>\n",
       "    </tr>\n",
       "    <tr>\n",
       "      <th>34</th>\n",
       "      <td>1134.0</td>\n",
       "      <td>9.780628</td>\n",
       "      <td>11.759813</td>\n",
       "      <td>1.979185</td>\n",
       "    </tr>\n",
       "    <tr>\n",
       "      <th>35</th>\n",
       "      <td>492.0</td>\n",
       "      <td>2.916476</td>\n",
       "      <td>2.830001</td>\n",
       "      <td>-0.086476</td>\n",
       "    </tr>\n",
       "    <tr>\n",
       "      <th>36</th>\n",
       "      <td>635.0</td>\n",
       "      <td>8.042915</td>\n",
       "      <td>7.523522</td>\n",
       "      <td>-0.519393</td>\n",
       "    </tr>\n",
       "    <tr>\n",
       "      <th>37</th>\n",
       "      <td>1903.0</td>\n",
       "      <td>12.240993</td>\n",
       "      <td>12.589282</td>\n",
       "      <td>0.348289</td>\n",
       "    </tr>\n",
       "    <tr>\n",
       "      <th>38</th>\n",
       "      <td>68.0</td>\n",
       "      <td>10.379902</td>\n",
       "      <td>11.220030</td>\n",
       "      <td>0.840128</td>\n",
       "    </tr>\n",
       "    <tr>\n",
       "      <th>39</th>\n",
       "      <td>1176.0</td>\n",
       "      <td>5.886280</td>\n",
       "      <td>5.072031</td>\n",
       "      <td>-0.814249</td>\n",
       "    </tr>\n",
       "  </tbody>\n",
       "</table>\n",
       "</div>"
      ],
      "text/plain": [
       "    well_id  oil_before  oil_after  difference\n",
       "0     100.0   17.106061  17.408870    0.302809\n",
       "1    1913.0    7.863073   8.807109    0.944036\n",
       "2    1894.0    4.600271   7.304582    2.704311\n",
       "3    1053.0   12.732349  14.965939    2.233590\n",
       "4    1723.0   15.528862  15.989991    0.461129\n",
       "5     382.0   11.350031  13.016749    1.666718\n",
       "6    1466.0    7.875625   7.710757   -0.164867\n",
       "7     988.0   12.092859  15.550713    3.457854\n",
       "8     234.0    6.642827  10.038991    3.396165\n",
       "9    1409.0    4.149496   8.266249    4.116753\n",
       "10    656.0   12.857625  13.730048    0.872423\n",
       "11    658.0   11.402755  15.257387    3.854632\n",
       "12    253.0    6.325592   6.096441   -0.229151\n",
       "13    798.0    7.659512   7.017893   -0.641618\n",
       "14    212.0    5.851021   5.897878    0.046857\n",
       "15   1702.0    3.564609   3.713321    0.148712\n",
       "16   1158.0    3.151659   3.245858    0.094198\n",
       "17    786.0    5.283048   5.617130    0.334083\n",
       "18    108.0    3.137552   6.183114    3.045562\n",
       "19   1345.0    5.152908   9.078172    3.925264\n",
       "20    973.0    6.686615   5.974394   -0.712221\n",
       "21    830.0   12.157392  12.842802    0.685410\n",
       "22   1858.0   10.497309  10.608917    0.111608\n",
       "23    257.0    4.218870   4.958571    0.739701\n",
       "24    621.0    3.368651   3.252487   -0.116164\n",
       "25   1082.0   20.024934  19.498452   -0.526482\n",
       "26   1292.0    6.068141   4.929447   -1.138695\n",
       "27    951.0   14.764634  15.157204    0.392570\n",
       "28    746.0   18.084122  19.267051    1.182929\n",
       "29   1615.0    3.766440   3.852433    0.085992\n",
       "30    819.0    7.963292  20.546639   12.583346\n",
       "31    906.0    7.640915   6.855274   -0.785642\n",
       "32    166.0   16.635741  15.832585   -0.803157\n",
       "33    214.0    7.053273   8.329789    1.276515\n",
       "34   1134.0    9.780628  11.759813    1.979185\n",
       "35    492.0    2.916476   2.830001   -0.086476\n",
       "36    635.0    8.042915   7.523522   -0.519393\n",
       "37   1903.0   12.240993  12.589282    0.348289\n",
       "38     68.0   10.379902  11.220030    0.840128\n",
       "39   1176.0    5.886280   5.072031   -0.814249"
      ]
     },
     "execution_count": 22,
     "metadata": {},
     "output_type": "execute_result"
    }
   ],
   "source": [
    "differences"
   ]
  },
  {
   "cell_type": "markdown",
   "metadata": {},
   "source": [
    "### Find initial production"
   ]
  },
  {
   "cell_type": "code",
   "execution_count": 12,
   "metadata": {},
   "outputs": [
    {
     "name": "stdout",
     "output_type": "stream",
     "text": [
      "True\n"
     ]
    }
   ],
   "source": [
    "import os\n",
    "print(os.path.exists(\"../results/\"))"
   ]
  },
  {
   "cell_type": "code",
   "execution_count": 52,
   "metadata": {},
   "outputs": [],
   "source": [
    "dataset_filename = 'data/testing/SPSA-sol_configs/sample_6.csv'\n",
    "df = pd.read_csv(dataset_filename)\n",
    "wells = configure_wells(df)"
   ]
  },
  {
   "cell_type": "code",
   "execution_count": 53,
   "metadata": {},
   "outputs": [
    {
     "name": "stdout",
     "output_type": "stream",
     "text": [
      "Positive direction: [0.5 0. ]\n",
      "Negative direction [0.5 0. ]\n",
      "Positive direction: [0.5 0. ]\n",
      "Negative direction [0.5 0. ]\n",
      "Positive direction: [0.5 0. ]\n",
      "Negative direction [0.5 0. ]\n",
      "Positive direction: [0.5 0. ]\n",
      "Negative direction [0.5 0. ]\n",
      "Positive direction: [0.5 0. ]\n",
      "Negative direction [0.5 0. ]\n",
      "Positive direction: [0.5 0. ]\n",
      "Negative direction [0.5 0. ]\n",
      "Positive direction: [0.5 0. ]\n",
      "Negative direction [0.5 0. ]\n",
      "Positive direction: [0.5 0. ]\n",
      "Negative direction [0.5 0. ]\n",
      "Positive direction: [0.5 0. ]\n",
      "Negative direction [0.5 0. ]\n",
      "Positive direction: [0.5 0. ]\n",
      "Negative direction [0.5 0. ]\n",
      "Positive state:\n",
      "Total oil produced is 97.763935686672\n",
      "Total water produced is 71.59331390173743, leaving a slack of 0.4066860982625684\n",
      "Total gas lift used is 0.0, leaving a slack of 5.0\n",
      "Negative state:\n",
      "Total oil produced is 97.763935686672\n",
      "Total water produced is 71.59331390173743, leaving a slack of 0.4066860982625684\n",
      "Total gas lift used is 0.0, leaving a slack of 5.0\n"
     ]
    },
    {
     "name": "stderr",
     "output_type": "stream",
     "text": [
      "/Users/henrikaas/Library/CloudStorage/OneDrive-NTNU/Dokumenter/NTNU/Prosjektoppgave/Kode/manywells/SPSA.py:811: RuntimeWarning: invalid value encountered in divide\n",
      "  gradient = (pos_L - neg_L).reshape(-1, 1) / (2 * well_directions)\n",
      "CasADi - 2025-06-28 16:25:08 WARNING(\"S:nlp_jac_g failed: NaN detected for output jac_g_x, at nonzero index 0 (row 0, col 0).\") [.../casadi/core/oracle_function.cpp:377]\n",
      "CasADi - 2025-06-28 16:25:08 WARNING(\"S:nlp_g failed: NaN detected for output g, at (row 0, col 0).\") [.../casadi/core/oracle_function.cpp:377]\n",
      "CasADi - 2025-06-28 16:25:08 WARNING(\"S:nlp_jac_g failed: NaN detected for output jac_g_x, at nonzero index 4092 (row 703, col 700).\") [.../casadi/core/oracle_function.cpp:377]\n",
      "CasADi - 2025-06-28 16:25:08 WARNING(\"S:nlp_g failed: NaN detected for output g, at (row 0, col 0).\") [.../casadi/core/oracle_function.cpp:377]\n"
     ]
    },
    {
     "name": "stdout",
     "output_type": "stream",
     "text": [
      "Could not solve for alpha\n",
      "Solver status: {'iter_count': 0, 'n_call_callback_fun': 0, 'n_call_nlp_f': 0, 'n_call_nlp_g': 1, 'n_call_nlp_grad': 0, 'n_call_nlp_grad_f': 1, 'n_call_nlp_hess_l': 0, 'n_call_nlp_jac_g': 1, 'return_status': 'Invalid_Number_Detected', 'success': False, 't_proc_callback_fun': 0.0, 't_proc_nlp_f': 0.0, 't_proc_nlp_g': 2.7e-05, 't_proc_nlp_grad': 0.0, 't_proc_nlp_grad_f': 1e-06, 't_proc_nlp_hess_l': 0.0, 't_proc_nlp_jac_g': 0.000123, 't_wall_callback_fun': 0.0, 't_wall_nlp_f': 0.0, 't_wall_nlp_g': 2.725e-05, 't_wall_nlp_grad': 0.0, 't_wall_nlp_grad_f': 8.75e-07, 't_wall_nlp_hess_l': 0.0, 't_wall_nlp_jac_g': 0.000141833, 'unified_return_status': 'SOLVER_RET_UNKNOWN'}\n",
      "Simulation failed for well 5 without initial guess. Trying guesses...\n",
      "Simulation failed\n",
      "Solver status: {'iter_count': 0, 'n_call_callback_fun': 0, 'n_call_nlp_f': 0, 'n_call_nlp_g': 1, 'n_call_nlp_grad': 0, 'n_call_nlp_grad_f': 1, 'n_call_nlp_hess_l': 0, 'n_call_nlp_jac_g': 1, 'return_status': 'Invalid_Number_Detected', 'success': False, 't_proc_callback_fun': 0.0, 't_proc_nlp_f': 0.0, 't_proc_nlp_g': 6.5e-05, 't_proc_nlp_grad': 0.0, 't_proc_nlp_grad_f': 4e-06, 't_proc_nlp_hess_l': 0.0, 't_proc_nlp_jac_g': 0.00019, 't_wall_callback_fun': 0.0, 't_wall_nlp_f': 0.0, 't_wall_nlp_g': 6.4541e-05, 't_wall_nlp_grad': 0.0, 't_wall_nlp_grad_f': 2.958e-06, 't_wall_nlp_hess_l': 0.0, 't_wall_nlp_jac_g': 0.000189291, 'unified_return_status': 'SOLVER_RET_UNKNOWN'}\n",
      "Simulation failed for well 5. Trying next guess...\n"
     ]
    },
    {
     "name": "stderr",
     "output_type": "stream",
     "text": [
      "CasADi - 2025-06-28 16:25:09 WARNING(\"S:nlp_g failed: NaN detected for output g, at (row 0, col 0).\") [.../casadi/core/oracle_function.cpp:377]\n"
     ]
    },
    {
     "name": "stdout",
     "output_type": "stream",
     "text": [
      "Simulation failed\n",
      "Solver status: {'iter_count': 0, 'n_call_callback_fun': 0, 'n_call_nlp_f': 0, 'n_call_nlp_g': 1, 'n_call_nlp_grad': 0, 'n_call_nlp_grad_f': 1, 'n_call_nlp_hess_l': 0, 'n_call_nlp_jac_g': 1, 'return_status': 'Invalid_Number_Detected', 'success': False, 't_proc_callback_fun': 0.0, 't_proc_nlp_f': 0.0, 't_proc_nlp_g': 0.000382, 't_proc_nlp_grad': 0.0, 't_proc_nlp_grad_f': 5e-06, 't_proc_nlp_hess_l': 0.0, 't_proc_nlp_jac_g': 0.000123, 't_wall_callback_fun': 0.0, 't_wall_nlp_f': 0.0, 't_wall_nlp_g': 0.000387084, 't_wall_nlp_grad': 0.0, 't_wall_nlp_grad_f': 3.708e-06, 't_wall_nlp_hess_l': 0.0, 't_wall_nlp_jac_g': 0.000124042, 'unified_return_status': 'SOLVER_RET_UNKNOWN'}\n",
      "Simulation failed for well 5. Trying next guess...\n"
     ]
    },
    {
     "name": "stderr",
     "output_type": "stream",
     "text": [
      "CasADi - 2025-06-28 16:25:09 WARNING(\"S:nlp_g failed: NaN detected for output g, at (row 0, col 0).\") [.../casadi/core/oracle_function.cpp:377]\n",
      "CasADi - 2025-06-28 16:25:09 WARNING(\"S:nlp_jac_g failed: NaN detected for output jac_g_x, at nonzero index 4092 (row 703, col 700).\") [.../casadi/core/oracle_function.cpp:377]\n",
      "CasADi - 2025-06-28 16:25:09 WARNING(\"S:nlp_g failed: NaN detected for output g, at (row 0, col 0).\") [.../casadi/core/oracle_function.cpp:377]\n"
     ]
    },
    {
     "name": "stdout",
     "output_type": "stream",
     "text": [
      "Simulation failed\n",
      "Solver status: {'iter_count': 0, 'n_call_callback_fun': 0, 'n_call_nlp_f': 0, 'n_call_nlp_g': 1, 'n_call_nlp_grad': 0, 'n_call_nlp_grad_f': 1, 'n_call_nlp_hess_l': 0, 'n_call_nlp_jac_g': 1, 'return_status': 'Invalid_Number_Detected', 'success': False, 't_proc_callback_fun': 0.0, 't_proc_nlp_f': 0.0, 't_proc_nlp_g': 0.000285, 't_proc_nlp_grad': 0.0, 't_proc_nlp_grad_f': 3e-06, 't_proc_nlp_hess_l': 0.0, 't_proc_nlp_jac_g': 0.000124, 't_wall_callback_fun': 0.0, 't_wall_nlp_f': 0.0, 't_wall_nlp_g': 0.000279542, 't_wall_nlp_grad': 0.0, 't_wall_nlp_grad_f': 3.542e-06, 't_wall_nlp_hess_l': 0.0, 't_wall_nlp_jac_g': 0.000125084, 'unified_return_status': 'SOLVER_RET_UNKNOWN'}\n",
      "Simulation failed for well 5. Trying next guess...\n",
      "Simulation failed\n",
      "Solver status: {'iter_count': 0, 'n_call_callback_fun': 0, 'n_call_nlp_f': 0, 'n_call_nlp_g': 1, 'n_call_nlp_grad': 0, 'n_call_nlp_grad_f': 1, 'n_call_nlp_hess_l': 0, 'n_call_nlp_jac_g': 1, 'return_status': 'Invalid_Number_Detected', 'success': False, 't_proc_callback_fun': 0.0, 't_proc_nlp_f': 0.0, 't_proc_nlp_g': 6.3e-05, 't_proc_nlp_grad': 0.0, 't_proc_nlp_grad_f': 4e-06, 't_proc_nlp_hess_l': 0.0, 't_proc_nlp_jac_g': 0.000191, 't_wall_callback_fun': 0.0, 't_wall_nlp_f': 0.0, 't_wall_nlp_g': 6.3042e-05, 't_wall_nlp_grad': 0.0, 't_wall_nlp_grad_f': 3.458e-06, 't_wall_nlp_hess_l': 0.0, 't_wall_nlp_jac_g': 0.000191625, 'unified_return_status': 'SOLVER_RET_UNKNOWN'}\n",
      "Simulation failed for well 5. Trying next guess...\n"
     ]
    },
    {
     "name": "stderr",
     "output_type": "stream",
     "text": [
      "CasADi - 2025-06-28 16:25:09 WARNING(\"S:nlp_jac_g failed: NaN detected for output jac_g_x, at nonzero index 4092 (row 703, col 700).\") [.../casadi/core/oracle_function.cpp:377]\n",
      "CasADi - 2025-06-28 16:25:09 WARNING(\"S:nlp_g failed: NaN detected for output g, at (row 0, col 0).\") [.../casadi/core/oracle_function.cpp:377]\n"
     ]
    },
    {
     "name": "stdout",
     "output_type": "stream",
     "text": [
      "Simulation failed\n",
      "Solver status: {'iter_count': 0, 'n_call_callback_fun': 0, 'n_call_nlp_f': 0, 'n_call_nlp_g': 1, 'n_call_nlp_grad': 0, 'n_call_nlp_grad_f': 1, 'n_call_nlp_hess_l': 0, 'n_call_nlp_jac_g': 1, 'return_status': 'Invalid_Number_Detected', 'success': False, 't_proc_callback_fun': 0.0, 't_proc_nlp_f': 0.0, 't_proc_nlp_g': 6.7e-05, 't_proc_nlp_grad': 0.0, 't_proc_nlp_grad_f': 4e-06, 't_proc_nlp_hess_l': 0.0, 't_proc_nlp_jac_g': 0.000363, 't_wall_callback_fun': 0.0, 't_wall_nlp_f': 0.0, 't_wall_nlp_g': 6.75e-05, 't_wall_nlp_grad': 0.0, 't_wall_nlp_grad_f': 3.25e-06, 't_wall_nlp_hess_l': 0.0, 't_wall_nlp_jac_g': 0.000370375, 'unified_return_status': 'SOLVER_RET_UNKNOWN'}\n",
      "Simulation failed for well 5. Trying next guess...\n"
     ]
    },
    {
     "name": "stderr",
     "output_type": "stream",
     "text": [
      "CasADi - 2025-06-28 16:25:10 WARNING(\"S:nlp_jac_g failed: NaN detected for output jac_g_x, at nonzero index 4092 (row 703, col 700).\") [.../casadi/core/oracle_function.cpp:377]\n",
      "CasADi - 2025-06-28 16:25:10 WARNING(\"S:nlp_g failed: NaN detected for output g, at (row 0, col 0).\") [.../casadi/core/oracle_function.cpp:377]\n",
      "CasADi - 2025-06-28 16:25:10 WARNING(\"S:nlp_jac_g failed: NaN detected for output jac_g_x, at nonzero index 4092 (row 703, col 700).\") [.../casadi/core/oracle_function.cpp:377]\n",
      "CasADi - 2025-06-28 16:25:10 WARNING(\"S:nlp_g failed: NaN detected for output g, at (row 0, col 0).\") [.../casadi/core/oracle_function.cpp:377]\n"
     ]
    },
    {
     "name": "stdout",
     "output_type": "stream",
     "text": [
      "Simulation failed\n",
      "Solver status: {'iter_count': 0, 'n_call_callback_fun': 0, 'n_call_nlp_f': 0, 'n_call_nlp_g': 1, 'n_call_nlp_grad': 0, 'n_call_nlp_grad_f': 1, 'n_call_nlp_hess_l': 0, 'n_call_nlp_jac_g': 1, 'return_status': 'Invalid_Number_Detected', 'success': False, 't_proc_callback_fun': 0.0, 't_proc_nlp_f': 0.0, 't_proc_nlp_g': 6.9e-05, 't_proc_nlp_grad': 0.0, 't_proc_nlp_grad_f': 6e-06, 't_proc_nlp_hess_l': 0.0, 't_proc_nlp_jac_g': 0.000523, 't_wall_callback_fun': 0.0, 't_wall_nlp_f': 0.0, 't_wall_nlp_g': 6.4541e-05, 't_wall_nlp_grad': 0.0, 't_wall_nlp_grad_f': 3.667e-06, 't_wall_nlp_hess_l': 0.0, 't_wall_nlp_jac_g': 0.000510167, 'unified_return_status': 'SOLVER_RET_UNKNOWN'}\n",
      "Simulation failed for well 5. Trying next guess...\n",
      "Simulation failed\n",
      "Solver status: {'iter_count': 0, 'n_call_callback_fun': 0, 'n_call_nlp_f': 0, 'n_call_nlp_g': 1, 'n_call_nlp_grad': 0, 'n_call_nlp_grad_f': 1, 'n_call_nlp_hess_l': 0, 'n_call_nlp_jac_g': 1, 'return_status': 'Invalid_Number_Detected', 'success': False, 't_proc_callback_fun': 0.0, 't_proc_nlp_f': 0.0, 't_proc_nlp_g': 6.2e-05, 't_proc_nlp_grad': 0.0, 't_proc_nlp_grad_f': 5e-06, 't_proc_nlp_hess_l': 0.0, 't_proc_nlp_jac_g': 0.000176, 't_wall_callback_fun': 0.0, 't_wall_nlp_f': 0.0, 't_wall_nlp_g': 6.1209e-05, 't_wall_nlp_grad': 0.0, 't_wall_nlp_grad_f': 3.125e-06, 't_wall_nlp_hess_l': 0.0, 't_wall_nlp_jac_g': 0.00017575, 'unified_return_status': 'SOLVER_RET_UNKNOWN'}\n",
      "Simulation failed for well 5. Trying next guess...\n"
     ]
    },
    {
     "name": "stderr",
     "output_type": "stream",
     "text": [
      "CasADi - 2025-06-28 16:25:10 WARNING(\"S:nlp_jac_g failed: NaN detected for output jac_g_x, at nonzero index 4092 (row 703, col 700).\") [.../casadi/core/oracle_function.cpp:377]\n",
      "CasADi - 2025-06-28 16:25:10 WARNING(\"S:nlp_g failed: NaN detected for output g, at (row 0, col 0).\") [.../casadi/core/oracle_function.cpp:377]\n"
     ]
    },
    {
     "name": "stdout",
     "output_type": "stream",
     "text": [
      "Simulation failed\n",
      "Solver status: {'iter_count': 0, 'n_call_callback_fun': 0, 'n_call_nlp_f': 0, 'n_call_nlp_g': 1, 'n_call_nlp_grad': 0, 'n_call_nlp_grad_f': 1, 'n_call_nlp_hess_l': 0, 'n_call_nlp_jac_g': 1, 'return_status': 'Invalid_Number_Detected', 'success': False, 't_proc_callback_fun': 0.0, 't_proc_nlp_f': 0.0, 't_proc_nlp_g': 6.6e-05, 't_proc_nlp_grad': 0.0, 't_proc_nlp_grad_f': 3e-06, 't_proc_nlp_hess_l': 0.0, 't_proc_nlp_jac_g': 0.000327, 't_wall_callback_fun': 0.0, 't_wall_nlp_f': 0.0, 't_wall_nlp_g': 6.5584e-05, 't_wall_nlp_grad': 0.0, 't_wall_nlp_grad_f': 3.208e-06, 't_wall_nlp_hess_l': 0.0, 't_wall_nlp_jac_g': 0.00033675, 'unified_return_status': 'SOLVER_RET_UNKNOWN'}\n",
      "Simulation failed for well 5. Trying next guess...\n"
     ]
    },
    {
     "name": "stderr",
     "output_type": "stream",
     "text": [
      "CasADi - 2025-06-28 16:25:10 WARNING(\"S:nlp_jac_g failed: NaN detected for output jac_g_x, at nonzero index 4092 (row 703, col 700).\") [.../casadi/core/oracle_function.cpp:377]\n",
      "CasADi - 2025-06-28 16:25:10 WARNING(\"S:nlp_g failed: NaN detected for output g, at (row 0, col 0).\") [.../casadi/core/oracle_function.cpp:377]\n"
     ]
    },
    {
     "name": "stdout",
     "output_type": "stream",
     "text": [
      "Simulation failed\n",
      "Solver status: {'iter_count': 0, 'n_call_callback_fun': 0, 'n_call_nlp_f': 0, 'n_call_nlp_g': 1, 'n_call_nlp_grad': 0, 'n_call_nlp_grad_f': 1, 'n_call_nlp_hess_l': 0, 'n_call_nlp_jac_g': 1, 'return_status': 'Invalid_Number_Detected', 'success': False, 't_proc_callback_fun': 0.0, 't_proc_nlp_f': 0.0, 't_proc_nlp_g': 6.7e-05, 't_proc_nlp_grad': 0.0, 't_proc_nlp_grad_f': 4e-06, 't_proc_nlp_hess_l': 0.0, 't_proc_nlp_jac_g': 0.00042, 't_wall_callback_fun': 0.0, 't_wall_nlp_f': 0.0, 't_wall_nlp_g': 6.6709e-05, 't_wall_nlp_grad': 0.0, 't_wall_nlp_grad_f': 3.167e-06, 't_wall_nlp_hess_l': 0.0, 't_wall_nlp_jac_g': 0.000413375, 'unified_return_status': 'SOLVER_RET_UNKNOWN'}\n",
      "Simulation failed for well 5. Trying next guess...\n",
      "Simulation failed\n",
      "Solver status: {'iter_count': 0, 'n_call_callback_fun': 0, 'n_call_nlp_f': 0, 'n_call_nlp_g': 1, 'n_call_nlp_grad': 0, 'n_call_nlp_grad_f': 1, 'n_call_nlp_hess_l': 0, 'n_call_nlp_jac_g': 1, 'return_status': 'Invalid_Number_Detected', 'success': False, 't_proc_callback_fun': 0.0, 't_proc_nlp_f': 0.0, 't_proc_nlp_g': 6.5e-05, 't_proc_nlp_grad': 0.0, 't_proc_nlp_grad_f': 3e-06, 't_proc_nlp_hess_l': 0.0, 't_proc_nlp_jac_g': 0.00034, 't_wall_callback_fun': 0.0, 't_wall_nlp_f': 0.0, 't_wall_nlp_g': 6.5458e-05, 't_wall_nlp_grad': 0.0, 't_wall_nlp_grad_f': 3.417e-06, 't_wall_nlp_hess_l': 0.0, 't_wall_nlp_jac_g': 0.000335958, 'unified_return_status': 'SOLVER_RET_UNKNOWN'}\n",
      "Simulation failed for well 5. Trying next guess...\n"
     ]
    },
    {
     "name": "stderr",
     "output_type": "stream",
     "text": [
      "CasADi - 2025-06-28 16:25:11 WARNING(\"S:nlp_jac_g failed: NaN detected for output jac_g_x, at nonzero index 4092 (row 703, col 700).\") [.../casadi/core/oracle_function.cpp:377]\n",
      "CasADi - 2025-06-28 16:25:11 WARNING(\"S:nlp_g failed: NaN detected for output g, at (row 0, col 0).\") [.../casadi/core/oracle_function.cpp:377]\n",
      "CasADi - 2025-06-28 16:25:11 WARNING(\"S:nlp_jac_g failed: NaN detected for output jac_g_x, at nonzero index 4092 (row 703, col 700).\") [.../casadi/core/oracle_function.cpp:377]\n",
      "CasADi - 2025-06-28 16:25:11 WARNING(\"S:nlp_g failed: NaN detected for output g, at (row 0, col 0).\") [.../casadi/core/oracle_function.cpp:377]\n"
     ]
    },
    {
     "name": "stdout",
     "output_type": "stream",
     "text": [
      "Simulation failed\n",
      "Solver status: {'iter_count': 0, 'n_call_callback_fun': 0, 'n_call_nlp_f': 0, 'n_call_nlp_g': 1, 'n_call_nlp_grad': 0, 'n_call_nlp_grad_f': 1, 'n_call_nlp_hess_l': 0, 'n_call_nlp_jac_g': 1, 'return_status': 'Invalid_Number_Detected', 'success': False, 't_proc_callback_fun': 0.0, 't_proc_nlp_f': 0.0, 't_proc_nlp_g': 6.4e-05, 't_proc_nlp_grad': 0.0, 't_proc_nlp_grad_f': 4e-06, 't_proc_nlp_hess_l': 0.0, 't_proc_nlp_jac_g': 0.000187, 't_wall_callback_fun': 0.0, 't_wall_nlp_f': 0.0, 't_wall_nlp_g': 6.5125e-05, 't_wall_nlp_grad': 0.0, 't_wall_nlp_grad_f': 3.542e-06, 't_wall_nlp_hess_l': 0.0, 't_wall_nlp_jac_g': 0.000187792, 'unified_return_status': 'SOLVER_RET_UNKNOWN'}\n",
      "Simulation failed for well 5. Trying next guess...\n"
     ]
    },
    {
     "name": "stderr",
     "output_type": "stream",
     "text": [
      "CasADi - 2025-06-28 16:25:11 WARNING(\"S:nlp_jac_g failed: NaN detected for output jac_g_x, at nonzero index 4092 (row 703, col 700).\") [.../casadi/core/oracle_function.cpp:377]\n",
      "CasADi - 2025-06-28 16:25:11 WARNING(\"S:nlp_g failed: NaN detected for output g, at (row 0, col 0).\") [.../casadi/core/oracle_function.cpp:377]\n",
      "CasADi - 2025-06-28 16:25:11 WARNING(\"S:nlp_jac_g failed: NaN detected for output jac_g_x, at nonzero index 4092 (row 703, col 700).\") [.../casadi/core/oracle_function.cpp:377]\n",
      "CasADi - 2025-06-28 16:25:11 WARNING(\"S:nlp_g failed: NaN detected for output g, at (row 0, col 0).\") [.../casadi/core/oracle_function.cpp:377]\n"
     ]
    },
    {
     "name": "stdout",
     "output_type": "stream",
     "text": [
      "Simulation failed\n",
      "Solver status: {'iter_count': 0, 'n_call_callback_fun': 0, 'n_call_nlp_f': 0, 'n_call_nlp_g': 1, 'n_call_nlp_grad': 0, 'n_call_nlp_grad_f': 1, 'n_call_nlp_hess_l': 0, 'n_call_nlp_jac_g': 1, 'return_status': 'Invalid_Number_Detected', 'success': False, 't_proc_callback_fun': 0.0, 't_proc_nlp_f': 0.0, 't_proc_nlp_g': 7.4e-05, 't_proc_nlp_grad': 0.0, 't_proc_nlp_grad_f': 7e-06, 't_proc_nlp_hess_l': 0.0, 't_proc_nlp_jac_g': 0.000301, 't_wall_callback_fun': 0.0, 't_wall_nlp_f': 0.0, 't_wall_nlp_g': 6.5208e-05, 't_wall_nlp_grad': 0.0, 't_wall_nlp_grad_f': 3.416e-06, 't_wall_nlp_hess_l': 0.0, 't_wall_nlp_jac_g': 0.000290917, 'unified_return_status': 'SOLVER_RET_UNKNOWN'}\n",
      "Simulation failed for well 5. Trying next guess...\n",
      "Simulation failed\n",
      "Solver status: {'iter_count': 0, 'n_call_callback_fun': 0, 'n_call_nlp_f': 0, 'n_call_nlp_g': 1, 'n_call_nlp_grad': 0, 'n_call_nlp_grad_f': 1, 'n_call_nlp_hess_l': 0, 'n_call_nlp_jac_g': 1, 'return_status': 'Invalid_Number_Detected', 'success': False, 't_proc_callback_fun': 0.0, 't_proc_nlp_f': 0.0, 't_proc_nlp_g': 6.2e-05, 't_proc_nlp_grad': 0.0, 't_proc_nlp_grad_f': 4e-06, 't_proc_nlp_hess_l': 0.0, 't_proc_nlp_jac_g': 0.00019, 't_wall_callback_fun': 0.0, 't_wall_nlp_f': 0.0, 't_wall_nlp_g': 6.225e-05, 't_wall_nlp_grad': 0.0, 't_wall_nlp_grad_f': 3.375e-06, 't_wall_nlp_hess_l': 0.0, 't_wall_nlp_jac_g': 0.000190083, 'unified_return_status': 'SOLVER_RET_UNKNOWN'}\n",
      "Simulation failed for well 5. Trying next guess...\n"
     ]
    },
    {
     "name": "stderr",
     "output_type": "stream",
     "text": [
      "CasADi - 2025-06-28 16:25:11 WARNING(\"S:nlp_jac_g failed: NaN detected for output jac_g_x, at nonzero index 4092 (row 703, col 700).\") [.../casadi/core/oracle_function.cpp:377]\n",
      "CasADi - 2025-06-28 16:25:11 WARNING(\"S:nlp_g failed: NaN detected for output g, at (row 0, col 0).\") [.../casadi/core/oracle_function.cpp:377]\n"
     ]
    },
    {
     "name": "stdout",
     "output_type": "stream",
     "text": [
      "Simulation failed\n",
      "Solver status: {'iter_count': 0, 'n_call_callback_fun': 0, 'n_call_nlp_f': 0, 'n_call_nlp_g': 1, 'n_call_nlp_grad': 0, 'n_call_nlp_grad_f': 1, 'n_call_nlp_hess_l': 0, 'n_call_nlp_jac_g': 1, 'return_status': 'Invalid_Number_Detected', 'success': False, 't_proc_callback_fun': 0.0, 't_proc_nlp_f': 0.0, 't_proc_nlp_g': 6.8e-05, 't_proc_nlp_grad': 0.0, 't_proc_nlp_grad_f': 4e-06, 't_proc_nlp_hess_l': 0.0, 't_proc_nlp_jac_g': 0.000409, 't_wall_callback_fun': 0.0, 't_wall_nlp_f': 0.0, 't_wall_nlp_g': 6.6958e-05, 't_wall_nlp_grad': 0.0, 't_wall_nlp_grad_f': 3.583e-06, 't_wall_nlp_hess_l': 0.0, 't_wall_nlp_jac_g': 0.000403042, 'unified_return_status': 'SOLVER_RET_UNKNOWN'}\n",
      "Simulation failed for well 5. Trying next guess...\n"
     ]
    },
    {
     "name": "stderr",
     "output_type": "stream",
     "text": [
      "CasADi - 2025-06-28 16:25:12 WARNING(\"S:nlp_jac_g failed: NaN detected for output jac_g_x, at nonzero index 4092 (row 703, col 700).\") [.../casadi/core/oracle_function.cpp:377]\n",
      "CasADi - 2025-06-28 16:25:12 WARNING(\"S:nlp_g failed: NaN detected for output g, at (row 0, col 0).\") [.../casadi/core/oracle_function.cpp:377]\n",
      "CasADi - 2025-06-28 16:25:12 WARNING(\"S:nlp_jac_g failed: NaN detected for output jac_g_x, at nonzero index 4092 (row 703, col 700).\") [.../casadi/core/oracle_function.cpp:377]\n",
      "CasADi - 2025-06-28 16:25:12 WARNING(\"S:nlp_g failed: NaN detected for output g, at (row 0, col 0).\") [.../casadi/core/oracle_function.cpp:377]\n"
     ]
    },
    {
     "name": "stdout",
     "output_type": "stream",
     "text": [
      "Simulation failed\n",
      "Solver status: {'iter_count': 0, 'n_call_callback_fun': 0, 'n_call_nlp_f': 0, 'n_call_nlp_g': 1, 'n_call_nlp_grad': 0, 'n_call_nlp_grad_f': 1, 'n_call_nlp_hess_l': 0, 'n_call_nlp_jac_g': 1, 'return_status': 'Invalid_Number_Detected', 'success': False, 't_proc_callback_fun': 0.0, 't_proc_nlp_f': 0.0, 't_proc_nlp_g': 6.9e-05, 't_proc_nlp_grad': 0.0, 't_proc_nlp_grad_f': 4e-06, 't_proc_nlp_hess_l': 0.0, 't_proc_nlp_jac_g': 0.000429, 't_wall_callback_fun': 0.0, 't_wall_nlp_f': 0.0, 't_wall_nlp_g': 6.8e-05, 't_wall_nlp_grad': 0.0, 't_wall_nlp_grad_f': 3.666e-06, 't_wall_nlp_hess_l': 0.0, 't_wall_nlp_jac_g': 0.000421417, 'unified_return_status': 'SOLVER_RET_UNKNOWN'}\n",
      "Simulation failed for well 5. Trying next guess...\n",
      "Simulation failed\n",
      "Solver status: {'iter_count': 0, 'n_call_callback_fun': 0, 'n_call_nlp_f': 0, 'n_call_nlp_g': 1, 'n_call_nlp_grad': 0, 'n_call_nlp_grad_f': 1, 'n_call_nlp_hess_l': 0, 'n_call_nlp_jac_g': 1, 'return_status': 'Invalid_Number_Detected', 'success': False, 't_proc_callback_fun': 0.0, 't_proc_nlp_f': 0.0, 't_proc_nlp_g': 6.8e-05, 't_proc_nlp_grad': 0.0, 't_proc_nlp_grad_f': 4e-06, 't_proc_nlp_hess_l': 0.0, 't_proc_nlp_jac_g': 0.000185, 't_wall_callback_fun': 0.0, 't_wall_nlp_f': 0.0, 't_wall_nlp_g': 6.7708e-05, 't_wall_nlp_grad': 0.0, 't_wall_nlp_grad_f': 3.125e-06, 't_wall_nlp_hess_l': 0.0, 't_wall_nlp_jac_g': 0.00018525, 'unified_return_status': 'SOLVER_RET_UNKNOWN'}\n",
      "Simulation failed for well 5. Trying next guess...\n",
      "Simulation failed for well 5(L=3596.6305554485893), with u: 0.5 & gl: nan.\n",
      "Trying again...\n"
     ]
    },
    {
     "name": "stderr",
     "output_type": "stream",
     "text": [
      "CasADi - 2025-06-28 16:25:12 WARNING(\"S:nlp_jac_g failed: NaN detected for output jac_g_x, at nonzero index 4092 (row 703, col 700).\") [.../casadi/core/oracle_function.cpp:377]\n",
      "CasADi - 2025-06-28 16:25:12 WARNING(\"S:nlp_g failed: NaN detected for output g, at (row 0, col 0).\") [.../casadi/core/oracle_function.cpp:377]\n"
     ]
    },
    {
     "name": "stdout",
     "output_type": "stream",
     "text": [
      "Simulation failed\n",
      "Solver status: {'iter_count': 0, 'n_call_callback_fun': 0, 'n_call_nlp_f': 0, 'n_call_nlp_g': 1, 'n_call_nlp_grad': 0, 'n_call_nlp_grad_f': 1, 'n_call_nlp_hess_l': 0, 'n_call_nlp_jac_g': 1, 'return_status': 'Invalid_Number_Detected', 'success': False, 't_proc_callback_fun': 0.0, 't_proc_nlp_f': 0.0, 't_proc_nlp_g': 6.5e-05, 't_proc_nlp_grad': 0.0, 't_proc_nlp_grad_f': 3e-06, 't_proc_nlp_hess_l': 0.0, 't_proc_nlp_jac_g': 0.000297, 't_wall_callback_fun': 0.0, 't_wall_nlp_f': 0.0, 't_wall_nlp_g': 6.3875e-05, 't_wall_nlp_grad': 0.0, 't_wall_nlp_grad_f': 3.417e-06, 't_wall_nlp_hess_l': 0.0, 't_wall_nlp_jac_g': 0.000296625, 'unified_return_status': 'SOLVER_RET_UNKNOWN'}\n",
      "Simulation failed for well 5 without initial guess. Trying guesses...\n"
     ]
    },
    {
     "name": "stderr",
     "output_type": "stream",
     "text": [
      "CasADi - 2025-06-28 16:25:12 WARNING(\"S:nlp_jac_g failed: NaN detected for output jac_g_x, at nonzero index 4092 (row 703, col 700).\") [.../casadi/core/oracle_function.cpp:377]\n",
      "CasADi - 2025-06-28 16:25:12 WARNING(\"S:nlp_g failed: NaN detected for output g, at (row 0, col 0).\") [.../casadi/core/oracle_function.cpp:377]\n",
      "CasADi - 2025-06-28 16:25:13 WARNING(\"S:nlp_g failed: NaN detected for output g, at (row 0, col 0).\") [.../casadi/core/oracle_function.cpp:377]\n"
     ]
    },
    {
     "name": "stdout",
     "output_type": "stream",
     "text": [
      "Simulation failed\n",
      "Solver status: {'iter_count': 0, 'n_call_callback_fun': 0, 'n_call_nlp_f': 0, 'n_call_nlp_g': 1, 'n_call_nlp_grad': 0, 'n_call_nlp_grad_f': 1, 'n_call_nlp_hess_l': 0, 'n_call_nlp_jac_g': 1, 'return_status': 'Invalid_Number_Detected', 'success': False, 't_proc_callback_fun': 0.0, 't_proc_nlp_f': 0.0, 't_proc_nlp_g': 6.7e-05, 't_proc_nlp_grad': 0.0, 't_proc_nlp_grad_f': 4e-06, 't_proc_nlp_hess_l': 0.0, 't_proc_nlp_jac_g': 0.000363, 't_wall_callback_fun': 0.0, 't_wall_nlp_f': 0.0, 't_wall_nlp_g': 6.6541e-05, 't_wall_nlp_grad': 0.0, 't_wall_nlp_grad_f': 2.959e-06, 't_wall_nlp_hess_l': 0.0, 't_wall_nlp_jac_g': 0.000366167, 'unified_return_status': 'SOLVER_RET_UNKNOWN'}\n",
      "Simulation failed for well 5. Trying next guess...\n",
      "Simulation failed\n",
      "Solver status: {'iter_count': 0, 'n_call_callback_fun': 0, 'n_call_nlp_f': 0, 'n_call_nlp_g': 1, 'n_call_nlp_grad': 0, 'n_call_nlp_grad_f': 1, 'n_call_nlp_hess_l': 0, 'n_call_nlp_jac_g': 1, 'return_status': 'Invalid_Number_Detected', 'success': False, 't_proc_callback_fun': 0.0, 't_proc_nlp_f': 0.0, 't_proc_nlp_g': 8.9e-05, 't_proc_nlp_grad': 0.0, 't_proc_nlp_grad_f': 4e-06, 't_proc_nlp_hess_l': 0.0, 't_proc_nlp_jac_g': 0.000129, 't_wall_callback_fun': 0.0, 't_wall_nlp_f': 0.0, 't_wall_nlp_g': 8.8292e-05, 't_wall_nlp_grad': 0.0, 't_wall_nlp_grad_f': 3.542e-06, 't_wall_nlp_hess_l': 0.0, 't_wall_nlp_jac_g': 0.00013225, 'unified_return_status': 'SOLVER_RET_UNKNOWN'}\n",
      "Simulation failed for well 5. Trying next guess...\n"
     ]
    },
    {
     "name": "stderr",
     "output_type": "stream",
     "text": [
      "CasADi - 2025-06-28 16:25:13 WARNING(\"S:nlp_g failed: NaN detected for output g, at (row 0, col 0).\") [.../casadi/core/oracle_function.cpp:377]\n"
     ]
    },
    {
     "name": "stdout",
     "output_type": "stream",
     "text": [
      "Simulation failed\n",
      "Solver status: {'iter_count': 0, 'n_call_callback_fun': 0, 'n_call_nlp_f': 0, 'n_call_nlp_g': 1, 'n_call_nlp_grad': 0, 'n_call_nlp_grad_f': 1, 'n_call_nlp_hess_l': 0, 'n_call_nlp_jac_g': 1, 'return_status': 'Invalid_Number_Detected', 'success': False, 't_proc_callback_fun': 0.0, 't_proc_nlp_f': 0.0, 't_proc_nlp_g': 0.000173, 't_proc_nlp_grad': 0.0, 't_proc_nlp_grad_f': 4e-06, 't_proc_nlp_hess_l': 0.0, 't_proc_nlp_jac_g': 0.000129, 't_wall_callback_fun': 0.0, 't_wall_nlp_f': 0.0, 't_wall_nlp_g': 0.000186375, 't_wall_nlp_grad': 0.0, 't_wall_nlp_grad_f': 3.209e-06, 't_wall_nlp_hess_l': 0.0, 't_wall_nlp_jac_g': 0.0001285, 'unified_return_status': 'SOLVER_RET_UNKNOWN'}\n",
      "Simulation failed for well 5. Trying next guess...\n"
     ]
    },
    {
     "name": "stderr",
     "output_type": "stream",
     "text": [
      "CasADi - 2025-06-28 16:25:13 WARNING(\"S:nlp_jac_g failed: NaN detected for output jac_g_x, at nonzero index 4092 (row 703, col 700).\") [.../casadi/core/oracle_function.cpp:377]\n",
      "CasADi - 2025-06-28 16:25:13 WARNING(\"S:nlp_g failed: NaN detected for output g, at (row 0, col 0).\") [.../casadi/core/oracle_function.cpp:377]\n",
      "CasADi - 2025-06-28 16:25:13 WARNING(\"S:nlp_jac_g failed: NaN detected for output jac_g_x, at nonzero index 4092 (row 703, col 700).\") [.../casadi/core/oracle_function.cpp:377]\n",
      "CasADi - 2025-06-28 16:25:13 WARNING(\"S:nlp_g failed: NaN detected for output g, at (row 0, col 0).\") [.../casadi/core/oracle_function.cpp:377]\n"
     ]
    },
    {
     "name": "stdout",
     "output_type": "stream",
     "text": [
      "Simulation failed\n",
      "Solver status: {'iter_count': 0, 'n_call_callback_fun': 0, 'n_call_nlp_f': 0, 'n_call_nlp_g': 1, 'n_call_nlp_grad': 0, 'n_call_nlp_grad_f': 1, 'n_call_nlp_hess_l': 0, 'n_call_nlp_jac_g': 1, 'return_status': 'Invalid_Number_Detected', 'success': False, 't_proc_callback_fun': 0.0, 't_proc_nlp_f': 0.0, 't_proc_nlp_g': 7.1e-05, 't_proc_nlp_grad': 0.0, 't_proc_nlp_grad_f': 4e-06, 't_proc_nlp_hess_l': 0.0, 't_proc_nlp_jac_g': 0.000368, 't_wall_callback_fun': 0.0, 't_wall_nlp_f': 0.0, 't_wall_nlp_g': 7.0875e-05, 't_wall_nlp_grad': 0.0, 't_wall_nlp_grad_f': 3.167e-06, 't_wall_nlp_hess_l': 0.0, 't_wall_nlp_jac_g': 0.00036775, 'unified_return_status': 'SOLVER_RET_UNKNOWN'}\n",
      "Simulation failed for well 5. Trying next guess...\n",
      "Simulation failed\n",
      "Solver status: {'iter_count': 0, 'n_call_callback_fun': 0, 'n_call_nlp_f': 0, 'n_call_nlp_g': 1, 'n_call_nlp_grad': 0, 'n_call_nlp_grad_f': 1, 'n_call_nlp_hess_l': 0, 'n_call_nlp_jac_g': 1, 'return_status': 'Invalid_Number_Detected', 'success': False, 't_proc_callback_fun': 0.0, 't_proc_nlp_f': 0.0, 't_proc_nlp_g': 6.2e-05, 't_proc_nlp_grad': 0.0, 't_proc_nlp_grad_f': 4e-06, 't_proc_nlp_hess_l': 0.0, 't_proc_nlp_jac_g': 0.000197, 't_wall_callback_fun': 0.0, 't_wall_nlp_f': 0.0, 't_wall_nlp_g': 6.2625e-05, 't_wall_nlp_grad': 0.0, 't_wall_nlp_grad_f': 2.834e-06, 't_wall_nlp_hess_l': 0.0, 't_wall_nlp_jac_g': 0.000202167, 'unified_return_status': 'SOLVER_RET_UNKNOWN'}\n",
      "Simulation failed for well 5. Trying next guess...\n"
     ]
    },
    {
     "name": "stderr",
     "output_type": "stream",
     "text": [
      "CasADi - 2025-06-28 16:25:14 WARNING(\"S:nlp_jac_g failed: NaN detected for output jac_g_x, at nonzero index 4092 (row 703, col 700).\") [.../casadi/core/oracle_function.cpp:377]\n",
      "CasADi - 2025-06-28 16:25:14 WARNING(\"S:nlp_g failed: NaN detected for output g, at (row 0, col 0).\") [.../casadi/core/oracle_function.cpp:377]\n"
     ]
    },
    {
     "name": "stdout",
     "output_type": "stream",
     "text": [
      "Simulation failed\n",
      "Solver status: {'iter_count': 0, 'n_call_callback_fun': 0, 'n_call_nlp_f': 0, 'n_call_nlp_g': 1, 'n_call_nlp_grad': 0, 'n_call_nlp_grad_f': 1, 'n_call_nlp_hess_l': 0, 'n_call_nlp_jac_g': 1, 'return_status': 'Invalid_Number_Detected', 'success': False, 't_proc_callback_fun': 0.0, 't_proc_nlp_f': 0.0, 't_proc_nlp_g': 6.8e-05, 't_proc_nlp_grad': 0.0, 't_proc_nlp_grad_f': 4e-06, 't_proc_nlp_hess_l': 0.0, 't_proc_nlp_jac_g': 0.000333, 't_wall_callback_fun': 0.0, 't_wall_nlp_f': 0.0, 't_wall_nlp_g': 6.7875e-05, 't_wall_nlp_grad': 0.0, 't_wall_nlp_grad_f': 3.292e-06, 't_wall_nlp_hess_l': 0.0, 't_wall_nlp_jac_g': 0.000335584, 'unified_return_status': 'SOLVER_RET_UNKNOWN'}\n",
      "Simulation failed for well 5. Trying next guess...\n"
     ]
    },
    {
     "name": "stderr",
     "output_type": "stream",
     "text": [
      "CasADi - 2025-06-28 16:25:14 WARNING(\"S:nlp_jac_g failed: NaN detected for output jac_g_x, at nonzero index 4092 (row 703, col 700).\") [.../casadi/core/oracle_function.cpp:377]\n",
      "CasADi - 2025-06-28 16:25:14 WARNING(\"S:nlp_g failed: NaN detected for output g, at (row 0, col 0).\") [.../casadi/core/oracle_function.cpp:377]\n",
      "CasADi - 2025-06-28 16:25:14 WARNING(\"S:nlp_jac_g failed: NaN detected for output jac_g_x, at nonzero index 4092 (row 703, col 700).\") [.../casadi/core/oracle_function.cpp:377]\n",
      "CasADi - 2025-06-28 16:25:14 WARNING(\"S:nlp_g failed: NaN detected for output g, at (row 0, col 0).\") [.../casadi/core/oracle_function.cpp:377]\n"
     ]
    },
    {
     "name": "stdout",
     "output_type": "stream",
     "text": [
      "Simulation failed\n",
      "Solver status: {'iter_count': 0, 'n_call_callback_fun': 0, 'n_call_nlp_f': 0, 'n_call_nlp_g': 1, 'n_call_nlp_grad': 0, 'n_call_nlp_grad_f': 1, 'n_call_nlp_hess_l': 0, 'n_call_nlp_jac_g': 1, 'return_status': 'Invalid_Number_Detected', 'success': False, 't_proc_callback_fun': 0.0, 't_proc_nlp_f': 0.0, 't_proc_nlp_g': 6.5e-05, 't_proc_nlp_grad': 0.0, 't_proc_nlp_grad_f': 3e-06, 't_proc_nlp_hess_l': 0.0, 't_proc_nlp_jac_g': 0.000442, 't_wall_callback_fun': 0.0, 't_wall_nlp_f': 0.0, 't_wall_nlp_g': 6.5583e-05, 't_wall_nlp_grad': 0.0, 't_wall_nlp_grad_f': 3.417e-06, 't_wall_nlp_hess_l': 0.0, 't_wall_nlp_jac_g': 0.0004325, 'unified_return_status': 'SOLVER_RET_UNKNOWN'}\n",
      "Simulation failed for well 5. Trying next guess...\n",
      "Simulation failed\n",
      "Solver status: {'iter_count': 0, 'n_call_callback_fun': 0, 'n_call_nlp_f': 0, 'n_call_nlp_g': 1, 'n_call_nlp_grad': 0, 'n_call_nlp_grad_f': 1, 'n_call_nlp_hess_l': 0, 'n_call_nlp_jac_g': 1, 'return_status': 'Invalid_Number_Detected', 'success': False, 't_proc_callback_fun': 0.0, 't_proc_nlp_f': 0.0, 't_proc_nlp_g': 7.4e-05, 't_proc_nlp_grad': 0.0, 't_proc_nlp_grad_f': 5e-06, 't_proc_nlp_hess_l': 0.0, 't_proc_nlp_jac_g': 0.000207, 't_wall_callback_fun': 0.0, 't_wall_nlp_f': 0.0, 't_wall_nlp_g': 7.275e-05, 't_wall_nlp_grad': 0.0, 't_wall_nlp_grad_f': 3.792e-06, 't_wall_nlp_hess_l': 0.0, 't_wall_nlp_jac_g': 0.000206875, 'unified_return_status': 'SOLVER_RET_UNKNOWN'}\n",
      "Simulation failed for well 5. Trying next guess...\n"
     ]
    },
    {
     "name": "stderr",
     "output_type": "stream",
     "text": [
      "CasADi - 2025-06-28 16:25:14 WARNING(\"S:nlp_jac_g failed: NaN detected for output jac_g_x, at nonzero index 4092 (row 703, col 700).\") [.../casadi/core/oracle_function.cpp:377]\n",
      "CasADi - 2025-06-28 16:25:14 WARNING(\"S:nlp_g failed: NaN detected for output g, at (row 0, col 0).\") [.../casadi/core/oracle_function.cpp:377]\n"
     ]
    },
    {
     "name": "stdout",
     "output_type": "stream",
     "text": [
      "Simulation failed\n",
      "Solver status: {'iter_count': 0, 'n_call_callback_fun': 0, 'n_call_nlp_f': 0, 'n_call_nlp_g': 1, 'n_call_nlp_grad': 0, 'n_call_nlp_grad_f': 1, 'n_call_nlp_hess_l': 0, 'n_call_nlp_jac_g': 1, 'return_status': 'Invalid_Number_Detected', 'success': False, 't_proc_callback_fun': 0.0, 't_proc_nlp_f': 0.0, 't_proc_nlp_g': 7.1e-05, 't_proc_nlp_grad': 0.0, 't_proc_nlp_grad_f': 4e-06, 't_proc_nlp_hess_l': 0.0, 't_proc_nlp_jac_g': 0.000401, 't_wall_callback_fun': 0.0, 't_wall_nlp_f': 0.0, 't_wall_nlp_g': 7.1167e-05, 't_wall_nlp_grad': 0.0, 't_wall_nlp_grad_f': 3.583e-06, 't_wall_nlp_hess_l': 0.0, 't_wall_nlp_jac_g': 0.000395917, 'unified_return_status': 'SOLVER_RET_UNKNOWN'}\n",
      "Simulation failed for well 5. Trying next guess...\n"
     ]
    },
    {
     "name": "stderr",
     "output_type": "stream",
     "text": [
      "CasADi - 2025-06-28 16:25:15 WARNING(\"S:nlp_jac_g failed: NaN detected for output jac_g_x, at nonzero index 4092 (row 703, col 700).\") [.../casadi/core/oracle_function.cpp:377]\n",
      "CasADi - 2025-06-28 16:25:15 WARNING(\"S:nlp_g failed: NaN detected for output g, at (row 0, col 0).\") [.../casadi/core/oracle_function.cpp:377]\n",
      "CasADi - 2025-06-28 16:25:15 WARNING(\"S:nlp_jac_g failed: NaN detected for output jac_g_x, at nonzero index 4092 (row 703, col 700).\") [.../casadi/core/oracle_function.cpp:377]\n",
      "CasADi - 2025-06-28 16:25:15 WARNING(\"S:nlp_g failed: NaN detected for output g, at (row 0, col 0).\") [.../casadi/core/oracle_function.cpp:377]\n"
     ]
    },
    {
     "name": "stdout",
     "output_type": "stream",
     "text": [
      "Simulation failed\n",
      "Solver status: {'iter_count': 0, 'n_call_callback_fun': 0, 'n_call_nlp_f': 0, 'n_call_nlp_g': 1, 'n_call_nlp_grad': 0, 'n_call_nlp_grad_f': 1, 'n_call_nlp_hess_l': 0, 'n_call_nlp_jac_g': 1, 'return_status': 'Invalid_Number_Detected', 'success': False, 't_proc_callback_fun': 0.0, 't_proc_nlp_f': 0.0, 't_proc_nlp_g': 6.4e-05, 't_proc_nlp_grad': 0.0, 't_proc_nlp_grad_f': 4e-06, 't_proc_nlp_hess_l': 0.0, 't_proc_nlp_jac_g': 0.000425, 't_wall_callback_fun': 0.0, 't_wall_nlp_f': 0.0, 't_wall_nlp_g': 6.4375e-05, 't_wall_nlp_grad': 0.0, 't_wall_nlp_grad_f': 3.25e-06, 't_wall_nlp_hess_l': 0.0, 't_wall_nlp_jac_g': 0.0004115, 'unified_return_status': 'SOLVER_RET_UNKNOWN'}\n",
      "Simulation failed for well 5. Trying next guess...\n",
      "Simulation failed\n",
      "Solver status: {'iter_count': 0, 'n_call_callback_fun': 0, 'n_call_nlp_f': 0, 'n_call_nlp_g': 1, 'n_call_nlp_grad': 0, 'n_call_nlp_grad_f': 1, 'n_call_nlp_hess_l': 0, 'n_call_nlp_jac_g': 1, 'return_status': 'Invalid_Number_Detected', 'success': False, 't_proc_callback_fun': 0.0, 't_proc_nlp_f': 0.0, 't_proc_nlp_g': 6.3e-05, 't_proc_nlp_grad': 0.0, 't_proc_nlp_grad_f': 4e-06, 't_proc_nlp_hess_l': 0.0, 't_proc_nlp_jac_g': 0.001008, 't_wall_callback_fun': 0.0, 't_wall_nlp_f': 0.0, 't_wall_nlp_g': 6.2709e-05, 't_wall_nlp_grad': 0.0, 't_wall_nlp_grad_f': 3.25e-06, 't_wall_nlp_hess_l': 0.0, 't_wall_nlp_jac_g': 0.001008666, 'unified_return_status': 'SOLVER_RET_UNKNOWN'}\n",
      "Simulation failed for well 5. Trying next guess...\n"
     ]
    },
    {
     "name": "stderr",
     "output_type": "stream",
     "text": [
      "CasADi - 2025-06-28 16:25:15 WARNING(\"S:nlp_jac_g failed: NaN detected for output jac_g_x, at nonzero index 4092 (row 703, col 700).\") [.../casadi/core/oracle_function.cpp:377]\n",
      "CasADi - 2025-06-28 16:25:15 WARNING(\"S:nlp_g failed: NaN detected for output g, at (row 0, col 0).\") [.../casadi/core/oracle_function.cpp:377]\n"
     ]
    },
    {
     "name": "stdout",
     "output_type": "stream",
     "text": [
      "Simulation failed\n",
      "Solver status: {'iter_count': 0, 'n_call_callback_fun': 0, 'n_call_nlp_f': 0, 'n_call_nlp_g': 1, 'n_call_nlp_grad': 0, 'n_call_nlp_grad_f': 1, 'n_call_nlp_hess_l': 0, 'n_call_nlp_jac_g': 1, 'return_status': 'Invalid_Number_Detected', 'success': False, 't_proc_callback_fun': 0.0, 't_proc_nlp_f': 0.0, 't_proc_nlp_g': 7.4e-05, 't_proc_nlp_grad': 0.0, 't_proc_nlp_grad_f': 4e-06, 't_proc_nlp_hess_l': 0.0, 't_proc_nlp_jac_g': 0.000373, 't_wall_callback_fun': 0.0, 't_wall_nlp_f': 0.0, 't_wall_nlp_g': 7.475e-05, 't_wall_nlp_grad': 0.0, 't_wall_nlp_grad_f': 3.625e-06, 't_wall_nlp_hess_l': 0.0, 't_wall_nlp_jac_g': 0.000373167, 'unified_return_status': 'SOLVER_RET_UNKNOWN'}\n",
      "Simulation failed for well 5. Trying next guess...\n"
     ]
    },
    {
     "name": "stderr",
     "output_type": "stream",
     "text": [
      "CasADi - 2025-06-28 16:25:15 WARNING(\"S:nlp_jac_g failed: NaN detected for output jac_g_x, at nonzero index 4092 (row 703, col 700).\") [.../casadi/core/oracle_function.cpp:377]\n",
      "CasADi - 2025-06-28 16:25:15 WARNING(\"S:nlp_g failed: NaN detected for output g, at (row 0, col 0).\") [.../casadi/core/oracle_function.cpp:377]\n",
      "CasADi - 2025-06-28 16:25:16 WARNING(\"S:nlp_jac_g failed: NaN detected for output jac_g_x, at nonzero index 4092 (row 703, col 700).\") [.../casadi/core/oracle_function.cpp:377]\n",
      "CasADi - 2025-06-28 16:25:16 WARNING(\"S:nlp_g failed: NaN detected for output g, at (row 0, col 0).\") [.../casadi/core/oracle_function.cpp:377]\n"
     ]
    },
    {
     "name": "stdout",
     "output_type": "stream",
     "text": [
      "Simulation failed\n",
      "Solver status: {'iter_count': 0, 'n_call_callback_fun': 0, 'n_call_nlp_f': 0, 'n_call_nlp_g': 1, 'n_call_nlp_grad': 0, 'n_call_nlp_grad_f': 1, 'n_call_nlp_hess_l': 0, 'n_call_nlp_jac_g': 1, 'return_status': 'Invalid_Number_Detected', 'success': False, 't_proc_callback_fun': 0.0, 't_proc_nlp_f': 0.0, 't_proc_nlp_g': 6.5e-05, 't_proc_nlp_grad': 0.0, 't_proc_nlp_grad_f': 4e-06, 't_proc_nlp_hess_l': 0.0, 't_proc_nlp_jac_g': 0.000421, 't_wall_callback_fun': 0.0, 't_wall_nlp_f': 0.0, 't_wall_nlp_g': 6.4875e-05, 't_wall_nlp_grad': 0.0, 't_wall_nlp_grad_f': 3.5e-06, 't_wall_nlp_hess_l': 0.0, 't_wall_nlp_jac_g': 0.000410291, 'unified_return_status': 'SOLVER_RET_UNKNOWN'}\n",
      "Simulation failed for well 5. Trying next guess...\n",
      "Simulation failed\n",
      "Solver status: {'iter_count': 0, 'n_call_callback_fun': 0, 'n_call_nlp_f': 0, 'n_call_nlp_g': 1, 'n_call_nlp_grad': 0, 'n_call_nlp_grad_f': 1, 'n_call_nlp_hess_l': 0, 'n_call_nlp_jac_g': 1, 'return_status': 'Invalid_Number_Detected', 'success': False, 't_proc_callback_fun': 0.0, 't_proc_nlp_f': 0.0, 't_proc_nlp_g': 6.4e-05, 't_proc_nlp_grad': 0.0, 't_proc_nlp_grad_f': 4e-06, 't_proc_nlp_hess_l': 0.0, 't_proc_nlp_jac_g': 0.000192, 't_wall_callback_fun': 0.0, 't_wall_nlp_f': 0.0, 't_wall_nlp_g': 6.2708e-05, 't_wall_nlp_grad': 0.0, 't_wall_nlp_grad_f': 3.125e-06, 't_wall_nlp_hess_l': 0.0, 't_wall_nlp_jac_g': 0.0001925, 'unified_return_status': 'SOLVER_RET_UNKNOWN'}\n",
      "Simulation failed for well 5. Trying next guess...\n"
     ]
    },
    {
     "name": "stderr",
     "output_type": "stream",
     "text": [
      "CasADi - 2025-06-28 16:25:16 WARNING(\"S:nlp_jac_g failed: NaN detected for output jac_g_x, at nonzero index 4092 (row 703, col 700).\") [.../casadi/core/oracle_function.cpp:377]\n",
      "CasADi - 2025-06-28 16:25:16 WARNING(\"S:nlp_g failed: NaN detected for output g, at (row 0, col 0).\") [.../casadi/core/oracle_function.cpp:377]\n"
     ]
    },
    {
     "name": "stdout",
     "output_type": "stream",
     "text": [
      "Simulation failed\n",
      "Solver status: {'iter_count': 0, 'n_call_callback_fun': 0, 'n_call_nlp_f': 0, 'n_call_nlp_g': 1, 'n_call_nlp_grad': 0, 'n_call_nlp_grad_f': 1, 'n_call_nlp_hess_l': 0, 'n_call_nlp_jac_g': 1, 'return_status': 'Invalid_Number_Detected', 'success': False, 't_proc_callback_fun': 0.0, 't_proc_nlp_f': 0.0, 't_proc_nlp_g': 8e-05, 't_proc_nlp_grad': 0.0, 't_proc_nlp_grad_f': 3e-06, 't_proc_nlp_hess_l': 0.0, 't_proc_nlp_jac_g': 0.000396, 't_wall_callback_fun': 0.0, 't_wall_nlp_f': 0.0, 't_wall_nlp_g': 8.3625e-05, 't_wall_nlp_grad': 0.0, 't_wall_nlp_grad_f': 2.833e-06, 't_wall_nlp_hess_l': 0.0, 't_wall_nlp_jac_g': 0.000331167, 'unified_return_status': 'SOLVER_RET_UNKNOWN'}\n",
      "Simulation failed for well 5. Trying next guess...\n"
     ]
    },
    {
     "name": "stderr",
     "output_type": "stream",
     "text": [
      "CasADi - 2025-06-28 16:25:16 WARNING(\"S:nlp_jac_g failed: NaN detected for output jac_g_x, at nonzero index 4092 (row 703, col 700).\") [.../casadi/core/oracle_function.cpp:377]\n",
      "CasADi - 2025-06-28 16:25:16 WARNING(\"S:nlp_g failed: NaN detected for output g, at (row 0, col 0).\") [.../casadi/core/oracle_function.cpp:377]\n"
     ]
    },
    {
     "name": "stdout",
     "output_type": "stream",
     "text": [
      "Simulation failed\n",
      "Solver status: {'iter_count': 0, 'n_call_callback_fun': 0, 'n_call_nlp_f': 0, 'n_call_nlp_g': 1, 'n_call_nlp_grad': 0, 'n_call_nlp_grad_f': 1, 'n_call_nlp_hess_l': 0, 'n_call_nlp_jac_g': 1, 'return_status': 'Invalid_Number_Detected', 'success': False, 't_proc_callback_fun': 0.0, 't_proc_nlp_f': 0.0, 't_proc_nlp_g': 6.8e-05, 't_proc_nlp_grad': 0.0, 't_proc_nlp_grad_f': 3e-06, 't_proc_nlp_hess_l': 0.0, 't_proc_nlp_jac_g': 0.000373, 't_wall_callback_fun': 0.0, 't_wall_nlp_f': 0.0, 't_wall_nlp_g': 6.6875e-05, 't_wall_nlp_grad': 0.0, 't_wall_nlp_grad_f': 3.458e-06, 't_wall_nlp_hess_l': 0.0, 't_wall_nlp_jac_g': 0.000361916, 'unified_return_status': 'SOLVER_RET_UNKNOWN'}\n",
      "Simulation failed for well 5. Trying next guess...\n",
      "Simulation failed: Could not simulate well 5 after 0 attempts. No guesses left.\n",
      "Number of failed simulations: 1\n",
      "Positive direction: [0.5 0. ]\n",
      "Negative direction [0.5 0. ]\n",
      "Positive direction: [0.5 0. ]\n",
      "Negative direction [0.5 0. ]\n",
      "Positive direction: [0.5 0. ]\n",
      "Negative direction [0.5 0. ]\n",
      "Positive direction: [0.5 0. ]\n",
      "Negative direction [0.5 0. ]\n",
      "Positive direction: [0.5 0. ]\n",
      "Negative direction [0.5 0. ]\n",
      "Positive direction: [0.5 0. ]\n",
      "Negative direction [0.5 0. ]\n",
      "Positive direction: [0.5 0. ]\n",
      "Negative direction [0.5 0. ]\n",
      "Positive direction: [0.5 0. ]\n",
      "Negative direction [0.5 0. ]\n",
      "Positive direction: [0.5 0. ]\n",
      "Negative direction [0.5 0. ]\n",
      "Positive direction: [0.5 0. ]\n",
      "Negative direction [0.5 0. ]\n"
     ]
    },
    {
     "name": "stderr",
     "output_type": "stream",
     "text": [
      "CasADi - 2025-06-28 16:25:24 WARNING(\"S:nlp_jac_g failed: NaN detected for output jac_g_x, at nonzero index 4092 (row 703, col 700).\") [.../casadi/core/oracle_function.cpp:377]\n",
      "CasADi - 2025-06-28 16:25:24 WARNING(\"S:nlp_jac_g failed: NaN detected for output jac_g_x, at nonzero index 4092 (row 703, col 700).\") [.../casadi/core/oracle_function.cpp:377]\n"
     ]
    },
    {
     "name": "stdout",
     "output_type": "stream",
     "text": [
      "Positive state:\n",
      "Total oil produced is 96.29661143915823\n",
      "Total water produced is 71.09225108874095, leaving a slack of 0.9077489112590484\n",
      "Total gas lift used is 0.0, leaving a slack of 5.0\n",
      "Negative state:\n",
      "Total oil produced is 96.29661143915823\n",
      "Total water produced is 71.09225108874095, leaving a slack of 0.9077489112590484\n",
      "Total gas lift used is 0.0, leaving a slack of 5.0\n"
     ]
    },
    {
     "name": "stderr",
     "output_type": "stream",
     "text": [
      "/Users/henrikaas/Library/CloudStorage/OneDrive-NTNU/Dokumenter/NTNU/Prosjektoppgave/Kode/manywells/SPSA.py:811: RuntimeWarning: invalid value encountered in divide\n",
      "  gradient = (pos_L - neg_L).reshape(-1, 1) / (2 * well_directions)\n",
      "CasADi - 2025-06-28 16:25:34 WARNING(\"S:nlp_jac_g failed: NaN detected for output jac_g_x, at nonzero index 4092 (row 703, col 700).\") [.../casadi/core/oracle_function.cpp:377]\n",
      "CasADi - 2025-06-28 16:25:34 WARNING(\"S:nlp_g failed: NaN detected for output g, at (row 0, col 0).\") [.../casadi/core/oracle_function.cpp:377]\n"
     ]
    },
    {
     "name": "stdout",
     "output_type": "stream",
     "text": [
      "Simulation failed\n",
      "Solver status: {'iter_count': 0, 'n_call_callback_fun': 0, 'n_call_nlp_f': 0, 'n_call_nlp_g': 1, 'n_call_nlp_grad': 0, 'n_call_nlp_grad_f': 1, 'n_call_nlp_hess_l': 0, 'n_call_nlp_jac_g': 1, 'return_status': 'Invalid_Number_Detected', 'success': False, 't_proc_callback_fun': 0.0, 't_proc_nlp_f': 0.0, 't_proc_nlp_g': 6.5e-05, 't_proc_nlp_grad': 0.0, 't_proc_nlp_grad_f': 3e-06, 't_proc_nlp_hess_l': 0.0, 't_proc_nlp_jac_g': 0.000815, 't_wall_callback_fun': 0.0, 't_wall_nlp_f': 0.0, 't_wall_nlp_g': 6.8708e-05, 't_wall_nlp_grad': 0.0, 't_wall_nlp_grad_f': 3.625e-06, 't_wall_nlp_hess_l': 0.0, 't_wall_nlp_jac_g': 0.000820125, 'unified_return_status': 'SOLVER_RET_UNKNOWN'}\n",
      "Simulation failed for well 5 without initial guess. Trying guesses...\n"
     ]
    },
    {
     "name": "stderr",
     "output_type": "stream",
     "text": [
      "CasADi - 2025-06-28 16:25:34 WARNING(\"S:nlp_jac_g failed: NaN detected for output jac_g_x, at nonzero index 4092 (row 703, col 700).\") [.../casadi/core/oracle_function.cpp:377]\n",
      "CasADi - 2025-06-28 16:25:34 WARNING(\"S:nlp_g failed: NaN detected for output g, at (row 0, col 0).\") [.../casadi/core/oracle_function.cpp:377]\n",
      "CasADi - 2025-06-28 16:25:34 WARNING(\"S:nlp_g failed: NaN detected for output g, at (row 0, col 0).\") [.../casadi/core/oracle_function.cpp:377]\n"
     ]
    },
    {
     "name": "stdout",
     "output_type": "stream",
     "text": [
      "Simulation failed\n",
      "Solver status: {'iter_count': 0, 'n_call_callback_fun': 0, 'n_call_nlp_f': 0, 'n_call_nlp_g': 1, 'n_call_nlp_grad': 0, 'n_call_nlp_grad_f': 1, 'n_call_nlp_hess_l': 0, 'n_call_nlp_jac_g': 1, 'return_status': 'Invalid_Number_Detected', 'success': False, 't_proc_callback_fun': 0.0, 't_proc_nlp_f': 0.0, 't_proc_nlp_g': 7.9e-05, 't_proc_nlp_grad': 0.0, 't_proc_nlp_grad_f': 4e-06, 't_proc_nlp_hess_l': 0.0, 't_proc_nlp_jac_g': 0.000424, 't_wall_callback_fun': 0.0, 't_wall_nlp_f': 0.0, 't_wall_nlp_g': 7.8375e-05, 't_wall_nlp_grad': 0.0, 't_wall_nlp_grad_f': 3.292e-06, 't_wall_nlp_hess_l': 0.0, 't_wall_nlp_jac_g': 0.000426083, 'unified_return_status': 'SOLVER_RET_UNKNOWN'}\n",
      "Simulation failed for well 5. Trying next guess...\n",
      "Simulation failed\n",
      "Solver status: {'iter_count': 0, 'n_call_callback_fun': 0, 'n_call_nlp_f': 0, 'n_call_nlp_g': 1, 'n_call_nlp_grad': 0, 'n_call_nlp_grad_f': 1, 'n_call_nlp_hess_l': 0, 'n_call_nlp_jac_g': 1, 'return_status': 'Invalid_Number_Detected', 'success': False, 't_proc_callback_fun': 0.0, 't_proc_nlp_f': 0.0, 't_proc_nlp_g': 9.4e-05, 't_proc_nlp_grad': 0.0, 't_proc_nlp_grad_f': 4e-06, 't_proc_nlp_hess_l': 0.0, 't_proc_nlp_jac_g': 0.000124, 't_wall_callback_fun': 0.0, 't_wall_nlp_f': 0.0, 't_wall_nlp_g': 9.475e-05, 't_wall_nlp_grad': 0.0, 't_wall_nlp_grad_f': 3.292e-06, 't_wall_nlp_hess_l': 0.0, 't_wall_nlp_jac_g': 0.000124167, 'unified_return_status': 'SOLVER_RET_UNKNOWN'}\n",
      "Simulation failed for well 5. Trying next guess...\n"
     ]
    },
    {
     "name": "stderr",
     "output_type": "stream",
     "text": [
      "CasADi - 2025-06-28 16:25:34 WARNING(\"S:nlp_g failed: NaN detected for output g, at (row 0, col 0).\") [.../casadi/core/oracle_function.cpp:377]\n",
      "CasADi - 2025-06-28 16:25:35 WARNING(\"S:nlp_jac_g failed: NaN detected for output jac_g_x, at nonzero index 4092 (row 703, col 700).\") [.../casadi/core/oracle_function.cpp:377]\n",
      "CasADi - 2025-06-28 16:25:35 WARNING(\"S:nlp_g failed: NaN detected for output g, at (row 0, col 0).\") [.../casadi/core/oracle_function.cpp:377]\n"
     ]
    },
    {
     "name": "stdout",
     "output_type": "stream",
     "text": [
      "Simulation failed\n",
      "Solver status: {'iter_count': 0, 'n_call_callback_fun': 0, 'n_call_nlp_f': 0, 'n_call_nlp_g': 1, 'n_call_nlp_grad': 0, 'n_call_nlp_grad_f': 1, 'n_call_nlp_hess_l': 0, 'n_call_nlp_jac_g': 1, 'return_status': 'Invalid_Number_Detected', 'success': False, 't_proc_callback_fun': 0.0, 't_proc_nlp_f': 0.0, 't_proc_nlp_g': 0.000244, 't_proc_nlp_grad': 0.0, 't_proc_nlp_grad_f': 4e-06, 't_proc_nlp_hess_l': 0.0, 't_proc_nlp_jac_g': 0.000132, 't_wall_callback_fun': 0.0, 't_wall_nlp_f': 0.0, 't_wall_nlp_g': 0.000240042, 't_wall_nlp_grad': 0.0, 't_wall_nlp_grad_f': 3.208e-06, 't_wall_nlp_hess_l': 0.0, 't_wall_nlp_jac_g': 0.000130791, 'unified_return_status': 'SOLVER_RET_UNKNOWN'}\n",
      "Simulation failed for well 5. Trying next guess...\n",
      "Simulation failed\n",
      "Solver status: {'iter_count': 0, 'n_call_callback_fun': 0, 'n_call_nlp_f': 0, 'n_call_nlp_g': 1, 'n_call_nlp_grad': 0, 'n_call_nlp_grad_f': 1, 'n_call_nlp_hess_l': 0, 'n_call_nlp_jac_g': 1, 'return_status': 'Invalid_Number_Detected', 'success': False, 't_proc_callback_fun': 0.0, 't_proc_nlp_f': 0.0, 't_proc_nlp_g': 6.9e-05, 't_proc_nlp_grad': 0.0, 't_proc_nlp_grad_f': 3e-06, 't_proc_nlp_hess_l': 0.0, 't_proc_nlp_jac_g': 0.000192, 't_wall_callback_fun': 0.0, 't_wall_nlp_f': 0.0, 't_wall_nlp_g': 6.7833e-05, 't_wall_nlp_grad': 0.0, 't_wall_nlp_grad_f': 3.209e-06, 't_wall_nlp_hess_l': 0.0, 't_wall_nlp_jac_g': 0.00019375, 'unified_return_status': 'SOLVER_RET_UNKNOWN'}\n",
      "Simulation failed for well 5. Trying next guess...\n"
     ]
    },
    {
     "name": "stderr",
     "output_type": "stream",
     "text": [
      "CasADi - 2025-06-28 16:25:35 WARNING(\"S:nlp_jac_g failed: NaN detected for output jac_g_x, at nonzero index 4092 (row 703, col 700).\") [.../casadi/core/oracle_function.cpp:377]\n",
      "CasADi - 2025-06-28 16:25:35 WARNING(\"S:nlp_g failed: NaN detected for output g, at (row 0, col 0).\") [.../casadi/core/oracle_function.cpp:377]\n"
     ]
    },
    {
     "name": "stdout",
     "output_type": "stream",
     "text": [
      "Simulation failed\n",
      "Solver status: {'iter_count': 0, 'n_call_callback_fun': 0, 'n_call_nlp_f': 0, 'n_call_nlp_g': 1, 'n_call_nlp_grad': 0, 'n_call_nlp_grad_f': 1, 'n_call_nlp_hess_l': 0, 'n_call_nlp_jac_g': 1, 'return_status': 'Invalid_Number_Detected', 'success': False, 't_proc_callback_fun': 0.0, 't_proc_nlp_f': 0.0, 't_proc_nlp_g': 6.4e-05, 't_proc_nlp_grad': 0.0, 't_proc_nlp_grad_f': 8e-06, 't_proc_nlp_hess_l': 0.0, 't_proc_nlp_jac_g': 0.000391, 't_wall_callback_fun': 0.0, 't_wall_nlp_f': 0.0, 't_wall_nlp_g': 6.3916e-05, 't_wall_nlp_grad': 0.0, 't_wall_nlp_grad_f': 3.375e-06, 't_wall_nlp_hess_l': 0.0, 't_wall_nlp_jac_g': 0.000404292, 'unified_return_status': 'SOLVER_RET_UNKNOWN'}\n",
      "Simulation failed for well 5. Trying next guess...\n"
     ]
    },
    {
     "name": "stderr",
     "output_type": "stream",
     "text": [
      "CasADi - 2025-06-28 16:25:35 WARNING(\"S:nlp_jac_g failed: NaN detected for output jac_g_x, at nonzero index 4092 (row 703, col 700).\") [.../casadi/core/oracle_function.cpp:377]\n",
      "CasADi - 2025-06-28 16:25:35 WARNING(\"S:nlp_g failed: NaN detected for output g, at (row 0, col 0).\") [.../casadi/core/oracle_function.cpp:377]\n",
      "CasADi - 2025-06-28 16:25:35 WARNING(\"S:nlp_jac_g failed: NaN detected for output jac_g_x, at nonzero index 4092 (row 703, col 700).\") [.../casadi/core/oracle_function.cpp:377]\n",
      "CasADi - 2025-06-28 16:25:35 WARNING(\"S:nlp_g failed: NaN detected for output g, at (row 0, col 0).\") [.../casadi/core/oracle_function.cpp:377]\n"
     ]
    },
    {
     "name": "stdout",
     "output_type": "stream",
     "text": [
      "Simulation failed\n",
      "Solver status: {'iter_count': 0, 'n_call_callback_fun': 0, 'n_call_nlp_f': 0, 'n_call_nlp_g': 1, 'n_call_nlp_grad': 0, 'n_call_nlp_grad_f': 1, 'n_call_nlp_hess_l': 0, 'n_call_nlp_jac_g': 1, 'return_status': 'Invalid_Number_Detected', 'success': False, 't_proc_callback_fun': 0.0, 't_proc_nlp_f': 0.0, 't_proc_nlp_g': 6.5e-05, 't_proc_nlp_grad': 0.0, 't_proc_nlp_grad_f': 4e-06, 't_proc_nlp_hess_l': 0.0, 't_proc_nlp_jac_g': 0.000395, 't_wall_callback_fun': 0.0, 't_wall_nlp_f': 0.0, 't_wall_nlp_g': 6.5125e-05, 't_wall_nlp_grad': 0.0, 't_wall_nlp_grad_f': 3.584e-06, 't_wall_nlp_hess_l': 0.0, 't_wall_nlp_jac_g': 0.000389416, 'unified_return_status': 'SOLVER_RET_UNKNOWN'}\n",
      "Simulation failed for well 5. Trying next guess...\n",
      "Simulation failed\n",
      "Solver status: {'iter_count': 0, 'n_call_callback_fun': 0, 'n_call_nlp_f': 0, 'n_call_nlp_g': 1, 'n_call_nlp_grad': 0, 'n_call_nlp_grad_f': 1, 'n_call_nlp_hess_l': 0, 'n_call_nlp_jac_g': 1, 'return_status': 'Invalid_Number_Detected', 'success': False, 't_proc_callback_fun': 0.0, 't_proc_nlp_f': 0.0, 't_proc_nlp_g': 6.2e-05, 't_proc_nlp_grad': 0.0, 't_proc_nlp_grad_f': 5e-06, 't_proc_nlp_hess_l': 0.0, 't_proc_nlp_jac_g': 0.000192, 't_wall_callback_fun': 0.0, 't_wall_nlp_f': 0.0, 't_wall_nlp_g': 6.4667e-05, 't_wall_nlp_grad': 0.0, 't_wall_nlp_grad_f': 3.458e-06, 't_wall_nlp_hess_l': 0.0, 't_wall_nlp_jac_g': 0.000192083, 'unified_return_status': 'SOLVER_RET_UNKNOWN'}\n",
      "Simulation failed for well 5. Trying next guess...\n"
     ]
    },
    {
     "name": "stderr",
     "output_type": "stream",
     "text": [
      "CasADi - 2025-06-28 16:25:36 WARNING(\"S:nlp_jac_g failed: NaN detected for output jac_g_x, at nonzero index 4092 (row 703, col 700).\") [.../casadi/core/oracle_function.cpp:377]\n",
      "CasADi - 2025-06-28 16:25:36 WARNING(\"S:nlp_g failed: NaN detected for output g, at (row 0, col 0).\") [.../casadi/core/oracle_function.cpp:377]\n"
     ]
    },
    {
     "name": "stdout",
     "output_type": "stream",
     "text": [
      "Simulation failed\n",
      "Solver status: {'iter_count': 0, 'n_call_callback_fun': 0, 'n_call_nlp_f': 0, 'n_call_nlp_g': 1, 'n_call_nlp_grad': 0, 'n_call_nlp_grad_f': 1, 'n_call_nlp_hess_l': 0, 'n_call_nlp_jac_g': 1, 'return_status': 'Invalid_Number_Detected', 'success': False, 't_proc_callback_fun': 0.0, 't_proc_nlp_f': 0.0, 't_proc_nlp_g': 6.8e-05, 't_proc_nlp_grad': 0.0, 't_proc_nlp_grad_f': 5e-06, 't_proc_nlp_hess_l': 0.0, 't_proc_nlp_jac_g': 0.000707, 't_wall_callback_fun': 0.0, 't_wall_nlp_f': 0.0, 't_wall_nlp_g': 6.8459e-05, 't_wall_nlp_grad': 0.0, 't_wall_nlp_grad_f': 3.208e-06, 't_wall_nlp_hess_l': 0.0, 't_wall_nlp_jac_g': 0.000719916, 'unified_return_status': 'SOLVER_RET_UNKNOWN'}\n",
      "Simulation failed for well 5. Trying next guess...\n"
     ]
    },
    {
     "name": "stderr",
     "output_type": "stream",
     "text": [
      "CasADi - 2025-06-28 16:25:36 WARNING(\"S:nlp_jac_g failed: NaN detected for output jac_g_x, at nonzero index 4092 (row 703, col 700).\") [.../casadi/core/oracle_function.cpp:377]\n",
      "CasADi - 2025-06-28 16:25:36 WARNING(\"S:nlp_g failed: NaN detected for output g, at (row 0, col 0).\") [.../casadi/core/oracle_function.cpp:377]\n"
     ]
    },
    {
     "name": "stdout",
     "output_type": "stream",
     "text": [
      "Simulation failed\n",
      "Solver status: {'iter_count': 0, 'n_call_callback_fun': 0, 'n_call_nlp_f': 0, 'n_call_nlp_g': 1, 'n_call_nlp_grad': 0, 'n_call_nlp_grad_f': 1, 'n_call_nlp_hess_l': 0, 'n_call_nlp_jac_g': 1, 'return_status': 'Invalid_Number_Detected', 'success': False, 't_proc_callback_fun': 0.0, 't_proc_nlp_f': 0.0, 't_proc_nlp_g': 6.4e-05, 't_proc_nlp_grad': 0.0, 't_proc_nlp_grad_f': 4e-06, 't_proc_nlp_hess_l': 0.0, 't_proc_nlp_jac_g': 0.000383, 't_wall_callback_fun': 0.0, 't_wall_nlp_f': 0.0, 't_wall_nlp_g': 6.3208e-05, 't_wall_nlp_grad': 0.0, 't_wall_nlp_grad_f': 3.5e-06, 't_wall_nlp_hess_l': 0.0, 't_wall_nlp_jac_g': 0.000375041, 'unified_return_status': 'SOLVER_RET_UNKNOWN'}\n",
      "Simulation failed for well 5. Trying next guess...\n",
      "Simulation failed\n",
      "Solver status: {'iter_count': 0, 'n_call_callback_fun': 0, 'n_call_nlp_f': 0, 'n_call_nlp_g': 1, 'n_call_nlp_grad': 0, 'n_call_nlp_grad_f': 1, 'n_call_nlp_hess_l': 0, 'n_call_nlp_jac_g': 1, 'return_status': 'Invalid_Number_Detected', 'success': False, 't_proc_callback_fun': 0.0, 't_proc_nlp_f': 0.0, 't_proc_nlp_g': 7.3e-05, 't_proc_nlp_grad': 0.0, 't_proc_nlp_grad_f': 4e-06, 't_proc_nlp_hess_l': 0.0, 't_proc_nlp_jac_g': 0.000264, 't_wall_callback_fun': 0.0, 't_wall_nlp_f': 0.0, 't_wall_nlp_g': 7.35e-05, 't_wall_nlp_grad': 0.0, 't_wall_nlp_grad_f': 3.208e-06, 't_wall_nlp_hess_l': 0.0, 't_wall_nlp_jac_g': 0.000252458, 'unified_return_status': 'SOLVER_RET_UNKNOWN'}\n",
      "Simulation failed for well 5. Trying next guess...\n"
     ]
    },
    {
     "name": "stderr",
     "output_type": "stream",
     "text": [
      "CasADi - 2025-06-28 16:25:36 WARNING(\"S:nlp_jac_g failed: NaN detected for output jac_g_x, at nonzero index 4092 (row 703, col 700).\") [.../casadi/core/oracle_function.cpp:377]\n",
      "CasADi - 2025-06-28 16:25:36 WARNING(\"S:nlp_g failed: NaN detected for output g, at (row 0, col 0).\") [.../casadi/core/oracle_function.cpp:377]\n",
      "CasADi - 2025-06-28 16:25:36 WARNING(\"S:nlp_jac_g failed: NaN detected for output jac_g_x, at nonzero index 4092 (row 703, col 700).\") [.../casadi/core/oracle_function.cpp:377]\n",
      "CasADi - 2025-06-28 16:25:36 WARNING(\"S:nlp_g failed: NaN detected for output g, at (row 0, col 0).\") [.../casadi/core/oracle_function.cpp:377]\n"
     ]
    },
    {
     "name": "stdout",
     "output_type": "stream",
     "text": [
      "Simulation failed\n",
      "Solver status: {'iter_count': 0, 'n_call_callback_fun': 0, 'n_call_nlp_f': 0, 'n_call_nlp_g': 1, 'n_call_nlp_grad': 0, 'n_call_nlp_grad_f': 1, 'n_call_nlp_hess_l': 0, 'n_call_nlp_jac_g': 1, 'return_status': 'Invalid_Number_Detected', 'success': False, 't_proc_callback_fun': 0.0, 't_proc_nlp_f': 0.0, 't_proc_nlp_g': 6.7e-05, 't_proc_nlp_grad': 0.0, 't_proc_nlp_grad_f': 4e-06, 't_proc_nlp_hess_l': 0.0, 't_proc_nlp_jac_g': 0.000181, 't_wall_callback_fun': 0.0, 't_wall_nlp_f': 0.0, 't_wall_nlp_g': 6.575e-05, 't_wall_nlp_grad': 0.0, 't_wall_nlp_grad_f': 3.084e-06, 't_wall_nlp_hess_l': 0.0, 't_wall_nlp_jac_g': 0.000181375, 'unified_return_status': 'SOLVER_RET_UNKNOWN'}\n",
      "Simulation failed for well 5. Trying next guess...\n"
     ]
    },
    {
     "ename": "SystemError",
     "evalue": "<built-in function nlpsol> returned a result with an exception set",
     "output_type": "error",
     "traceback": [
      "\u001b[0;31m---------------------------------------------------------------------------\u001b[0m",
      "\u001b[0;31mKeyboardInterrupt\u001b[0m                         Traceback (most recent call last)",
      "\u001b[0;32m~/anaconda3/envs/prosjektoppgave/lib/python3.10/site-packages/casadi/casadi.py\u001b[0m in \u001b[0;36m?\u001b[0;34m(self, name, value)\u001b[0m\n\u001b[0;32m> 17564\u001b[0;31m     \u001b[0m__setattr__\u001b[0m \u001b[0;34m=\u001b[0m \u001b[0;32mlambda\u001b[0m \u001b[0mself\u001b[0m\u001b[0;34m,\u001b[0m \u001b[0mname\u001b[0m\u001b[0;34m,\u001b[0m \u001b[0mvalue\u001b[0m\u001b[0;34m:\u001b[0m \u001b[0m_swig_setattr\u001b[0m\u001b[0;34m(\u001b[0m\u001b[0mself\u001b[0m\u001b[0;34m,\u001b[0m \u001b[0mFunction\u001b[0m\u001b[0;34m,\u001b[0m \u001b[0mname\u001b[0m\u001b[0;34m,\u001b[0m \u001b[0mvalue\u001b[0m\u001b[0;34m)\u001b[0m\u001b[0;34m\u001b[0m\u001b[0;34m\u001b[0m\u001b[0m\n\u001b[0m",
      "\u001b[0;31mKeyboardInterrupt\u001b[0m: ",
      "\nThe above exception was the direct cause of the following exception:\n",
      "\u001b[0;31mSystemError\u001b[0m                               Traceback (most recent call last)",
      "\u001b[0;32m/var/folders/ng/6xlm381s2n9g1yzbrt_z2__00000gn/T/ipykernel_55166/1752014919.py\u001b[0m in \u001b[0;36m?\u001b[0;34m()\u001b[0m\n\u001b[1;32m      1\u001b[0m \u001b[0mopt\u001b[0m \u001b[0;34m=\u001b[0m \u001b[0mSPSAOptimization\u001b[0m\u001b[0;34m(\u001b[0m\u001b[0mwells\u001b[0m\u001b[0;34m=\u001b[0m\u001b[0mwells\u001b[0m\u001b[0;34m,\u001b[0m \u001b[0msigma\u001b[0m\u001b[0;34m=\u001b[0m\u001b[0;36m0.\u001b[0m\u001b[0;34m,\u001b[0m \u001b[0ma\u001b[0m\u001b[0;34m=\u001b[0m\u001b[0;36m0\u001b[0m\u001b[0;34m,\u001b[0m \u001b[0mc\u001b[0m\u001b[0;34m=\u001b[0m\u001b[0;36m0\u001b[0m\u001b[0;34m)\u001b[0m\u001b[0;34m\u001b[0m\u001b[0;34m\u001b[0m\u001b[0m\n\u001b[0;32m----> 2\u001b[0;31m \u001b[0mopt\u001b[0m\u001b[0;34m.\u001b[0m\u001b[0mSPSA\u001b[0m\u001b[0;34m(\u001b[0m\u001b[0mn_sim\u001b[0m\u001b[0;34m=\u001b[0m\u001b[0;36m1\u001b[0m\u001b[0;34m)\u001b[0m\u001b[0;34m\u001b[0m\u001b[0;34m\u001b[0m\u001b[0m\n\u001b[0m",
      "\u001b[0;32m~/Library/CloudStorage/OneDrive-NTNU/Dokumenter/NTNU/Prosjektoppgave/Kode/manywells/SPSA.py\u001b[0m in \u001b[0;36m?\u001b[0;34m(self, n_sim, dataset_version, starting_iteration)\u001b[0m\n\u001b[1;32m    737\u001b[0m                 \u001b[0;31m# Calculate the state of the system\u001b[0m\u001b[0;34m\u001b[0m\u001b[0;34m\u001b[0m\u001b[0m\n\u001b[1;32m    738\u001b[0m                 \u001b[0mstate\u001b[0m \u001b[0;34m=\u001b[0m \u001b[0mself\u001b[0m\u001b[0;34m.\u001b[0m\u001b[0mcalculate_state\u001b[0m\u001b[0;34m(\u001b[0m\u001b[0mwell_data\u001b[0m\u001b[0;34m=\u001b[0m\u001b[0mwell_data\u001b[0m\u001b[0;34m)\u001b[0m\u001b[0;34m\u001b[0m\u001b[0;34m\u001b[0m\u001b[0m\n\u001b[1;32m    739\u001b[0m                 \u001b[0msuccess\u001b[0m \u001b[0;34m=\u001b[0m \u001b[0;32mTrue\u001b[0m\u001b[0;34m\u001b[0m\u001b[0;34m\u001b[0m\u001b[0m\n\u001b[1;32m    740\u001b[0m \u001b[0;34m\u001b[0m\u001b[0m\n\u001b[0;32m--> 741\u001b[0;31m             \u001b[0;32mexcept\u001b[0m \u001b[0mSimError\u001b[0m \u001b[0;32mas\u001b[0m \u001b[0me\u001b[0m\u001b[0;34m:\u001b[0m\u001b[0;34m\u001b[0m\u001b[0;34m\u001b[0m\u001b[0m\n\u001b[0m\u001b[1;32m    742\u001b[0m                 \u001b[0mn_fails\u001b[0m \u001b[0;34m+=\u001b[0m \u001b[0;36m1\u001b[0m\u001b[0;34m\u001b[0m\u001b[0;34m\u001b[0m\u001b[0m\n\u001b[1;32m    743\u001b[0m                 \u001b[0mself\u001b[0m\u001b[0;34m.\u001b[0m\u001b[0mwells\u001b[0m \u001b[0;34m=\u001b[0m \u001b[0mcopy\u001b[0m\u001b[0;34m.\u001b[0m\u001b[0mdeepcopy\u001b[0m\u001b[0;34m(\u001b[0m\u001b[0mself\u001b[0m\u001b[0;34m.\u001b[0m\u001b[0mbackup_wells\u001b[0m\u001b[0;34m)\u001b[0m \u001b[0;31m# Reset wells to the last successful state\u001b[0m\u001b[0;34m\u001b[0m\u001b[0;34m\u001b[0m\u001b[0m\n\u001b[1;32m    744\u001b[0m                 \u001b[0msuccess\u001b[0m \u001b[0;34m=\u001b[0m \u001b[0;32mFalse\u001b[0m\u001b[0;34m\u001b[0m\u001b[0;34m\u001b[0m\u001b[0m\n",
      "\u001b[0;32m~/Library/CloudStorage/OneDrive-NTNU/Dokumenter/NTNU/Prosjektoppgave/Kode/manywells/SPSA.py\u001b[0m in \u001b[0;36m?\u001b[0;34m(self, key, well, sim, sample_type)\u001b[0m\n\u001b[1;32m    126\u001b[0m                 \u001b[0mdp\u001b[0m \u001b[0;34m=\u001b[0m \u001b[0mcreate_data_point\u001b[0m\u001b[0;34m(\u001b[0m\u001b[0mwell\u001b[0m\u001b[0;34m=\u001b[0m\u001b[0mwell\u001b[0m\u001b[0;34m,\u001b[0m \u001b[0msim\u001b[0m\u001b[0;34m=\u001b[0m\u001b[0msim\u001b[0m\u001b[0;34m,\u001b[0m \u001b[0mx\u001b[0m\u001b[0;34m=\u001b[0m\u001b[0mx\u001b[0m\u001b[0;34m,\u001b[0m \u001b[0mdecision_type\u001b[0m\u001b[0;34m=\u001b[0m\u001b[0msample_type\u001b[0m\u001b[0;34m)\u001b[0m\u001b[0;34m\u001b[0m\u001b[0;34m\u001b[0m\u001b[0m\n\u001b[1;32m    127\u001b[0m                 \u001b[0msim\u001b[0m\u001b[0;34m.\u001b[0m\u001b[0mx_guess\u001b[0m \u001b[0;34m=\u001b[0m \u001b[0;32mNone\u001b[0m \u001b[0;31m# Reset the guess\u001b[0m\u001b[0;34m\u001b[0m\u001b[0;34m\u001b[0m\u001b[0m\n\u001b[1;32m    128\u001b[0m \u001b[0;34m\u001b[0m\u001b[0m\n\u001b[1;32m    129\u001b[0m                 \u001b[0;32mreturn\u001b[0m \u001b[0mdp\u001b[0m\u001b[0;34m,\u001b[0m \u001b[0mx\u001b[0m\u001b[0;34m\u001b[0m\u001b[0;34m\u001b[0m\u001b[0m\n\u001b[0;32m--> 130\u001b[0;31m             \u001b[0;32mexcept\u001b[0m \u001b[0mSimError\u001b[0m \u001b[0;32mas\u001b[0m \u001b[0me\u001b[0m\u001b[0;34m:\u001b[0m\u001b[0;34m\u001b[0m\u001b[0;34m\u001b[0m\u001b[0m\n\u001b[0m\u001b[1;32m    131\u001b[0m                 \u001b[0mprint\u001b[0m\u001b[0;34m(\u001b[0m\u001b[0;34mf\"Simulation failed for well {key}. Trying next guess...\"\u001b[0m\u001b[0;34m)\u001b[0m\u001b[0;34m\u001b[0m\u001b[0;34m\u001b[0m\u001b[0m\n\u001b[1;32m    132\u001b[0m                 \u001b[0;32mcontinue\u001b[0m\u001b[0;34m\u001b[0m\u001b[0;34m\u001b[0m\u001b[0m\n\u001b[1;32m    133\u001b[0m \u001b[0;34m\u001b[0m\u001b[0m\n",
      "\u001b[0;32m~/Library/CloudStorage/OneDrive-NTNU/Dokumenter/NTNU/Prosjektoppgave/Kode/manywells/manywells/simulator.py\u001b[0m in \u001b[0;36m?\u001b[0;34m(self)\u001b[0m\n\u001b[1;32m    482\u001b[0m         \u001b[0mf\u001b[0m \u001b[0;34m=\u001b[0m \u001b[0;36m0\u001b[0m  \u001b[0;31m# We set the objective function, f, to zero to solve a feasibility problem\u001b[0m\u001b[0;34m\u001b[0m\u001b[0;34m\u001b[0m\u001b[0m\n\u001b[1;32m    483\u001b[0m         \u001b[0mnlp\u001b[0m \u001b[0;34m=\u001b[0m \u001b[0;34m{\u001b[0m\u001b[0;34m'x'\u001b[0m\u001b[0;34m:\u001b[0m \u001b[0mx_vec\u001b[0m\u001b[0;34m,\u001b[0m \u001b[0;34m'f'\u001b[0m\u001b[0;34m:\u001b[0m \u001b[0mf\u001b[0m\u001b[0;34m,\u001b[0m \u001b[0;34m'g'\u001b[0m\u001b[0;34m:\u001b[0m \u001b[0mg_vec\u001b[0m\u001b[0;34m}\u001b[0m\u001b[0;34m\u001b[0m\u001b[0;34m\u001b[0m\u001b[0m\n\u001b[1;32m    484\u001b[0m         \u001b[0msolver_config\u001b[0m \u001b[0;34m=\u001b[0m \u001b[0;34m{\u001b[0m\u001b[0;34m'ipopt.print_level'\u001b[0m\u001b[0;34m:\u001b[0m \u001b[0;36m0\u001b[0m\u001b[0;34m,\u001b[0m \u001b[0;34m'print_time'\u001b[0m\u001b[0;34m:\u001b[0m \u001b[0;36m0\u001b[0m\u001b[0;34m}\u001b[0m\u001b[0;34m\u001b[0m\u001b[0;34m\u001b[0m\u001b[0m\n\u001b[1;32m    485\u001b[0m         \u001b[0;31m# solver_config = {}\u001b[0m\u001b[0;34m\u001b[0m\u001b[0;34m\u001b[0m\u001b[0m\n\u001b[0;32m--> 486\u001b[0;31m         \u001b[0msolver\u001b[0m \u001b[0;34m=\u001b[0m \u001b[0mca\u001b[0m\u001b[0;34m.\u001b[0m\u001b[0mnlpsol\u001b[0m\u001b[0;34m(\u001b[0m\u001b[0;34m'S'\u001b[0m\u001b[0;34m,\u001b[0m \u001b[0;34m'ipopt'\u001b[0m\u001b[0;34m,\u001b[0m \u001b[0mnlp\u001b[0m\u001b[0;34m,\u001b[0m \u001b[0msolver_config\u001b[0m\u001b[0;34m)\u001b[0m\u001b[0;34m\u001b[0m\u001b[0;34m\u001b[0m\u001b[0m\n\u001b[0m\u001b[1;32m    487\u001b[0m         \u001b[0mresult\u001b[0m \u001b[0;34m=\u001b[0m \u001b[0msolver\u001b[0m\u001b[0;34m(\u001b[0m\u001b[0mx0\u001b[0m\u001b[0;34m=\u001b[0m\u001b[0mx_guess\u001b[0m\u001b[0;34m,\u001b[0m \u001b[0mlbx\u001b[0m\u001b[0;34m=\u001b[0m\u001b[0mlbx\u001b[0m\u001b[0;34m,\u001b[0m \u001b[0mubx\u001b[0m\u001b[0;34m=\u001b[0m\u001b[0mubx\u001b[0m\u001b[0;34m,\u001b[0m \u001b[0mlbg\u001b[0m\u001b[0;34m=\u001b[0m\u001b[0mlbg\u001b[0m\u001b[0;34m,\u001b[0m \u001b[0mubg\u001b[0m\u001b[0;34m=\u001b[0m\u001b[0mubg\u001b[0m\u001b[0;34m)\u001b[0m\u001b[0;34m\u001b[0m\u001b[0;34m\u001b[0m\u001b[0m\n\u001b[1;32m    488\u001b[0m         \u001b[0;31m# print(result)\u001b[0m\u001b[0;34m\u001b[0m\u001b[0;34m\u001b[0m\u001b[0m\n\u001b[1;32m    489\u001b[0m         \u001b[0;32mif\u001b[0m \u001b[0;32mnot\u001b[0m \u001b[0msolver\u001b[0m\u001b[0;34m.\u001b[0m\u001b[0mstats\u001b[0m\u001b[0;34m(\u001b[0m\u001b[0;34m)\u001b[0m\u001b[0;34m[\u001b[0m\u001b[0;34m'success'\u001b[0m\u001b[0;34m]\u001b[0m\u001b[0;34m:\u001b[0m\u001b[0;34m\u001b[0m\u001b[0;34m\u001b[0m\u001b[0m\n",
      "\u001b[0;32m~/anaconda3/envs/prosjektoppgave/lib/python3.10/site-packages/casadi/casadi.py\u001b[0m in \u001b[0;36m?\u001b[0;34m(*args)\u001b[0m\n\u001b[1;32m  29029\u001b[0m \u001b[0;34m\u001b[0m\u001b[0m\n\u001b[1;32m  29030\u001b[0m \u001b[0;34m\u001b[0m\u001b[0m\n\u001b[1;32m  29031\u001b[0m \u001b[0;34m\u001b[0m\u001b[0m\n\u001b[1;32m  29032\u001b[0m     \"\"\"\n\u001b[0;32m> 29033\u001b[0;31m     \u001b[0;32mreturn\u001b[0m \u001b[0m_casadi\u001b[0m\u001b[0;34m.\u001b[0m\u001b[0mnlpsol\u001b[0m\u001b[0;34m(\u001b[0m\u001b[0;34m*\u001b[0m\u001b[0margs\u001b[0m\u001b[0;34m)\u001b[0m\u001b[0;34m\u001b[0m\u001b[0;34m\u001b[0m\u001b[0m\n\u001b[0m",
      "\u001b[0;31mSystemError\u001b[0m: <built-in function nlpsol> returned a result with an exception set"
     ]
    }
   ],
   "source": [
    "opt = SPSAOptimization(wells=wells, sigma=0., a=0, c=0)\n",
    "opt.SPSA(n_sim=1)"
   ]
  }
 ],
 "metadata": {
  "kernelspec": {
   "display_name": "prosjektoppgave",
   "language": "python",
   "name": "python3"
  },
  "language_info": {
   "codemirror_mode": {
    "name": "ipython",
    "version": 3
   },
   "file_extension": ".py",
   "mimetype": "text/x-python",
   "name": "python",
   "nbconvert_exporter": "python",
   "pygments_lexer": "ipython3",
   "version": "3.10.13"
  }
 },
 "nbformat": 4,
 "nbformat_minor": 2
}
